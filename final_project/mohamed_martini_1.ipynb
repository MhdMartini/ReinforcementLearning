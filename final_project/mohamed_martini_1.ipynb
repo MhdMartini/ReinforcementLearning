{
 "cells": [
  {
   "cell_type": "markdown",
   "id": "hundred-relaxation",
   "metadata": {},
   "source": [
    "<center>\n",
    "    COMP4600/5300 - Reinforcement Learning\n",
    "\n",
    "# Final Project\n",
    "\n",
    "### Due: Thursday, Dec 9th 11:59 pm\n",
    "    \n",
    "</center>"
   ]
  },
  {
   "cell_type": "markdown",
   "id": "toxic-continuity",
   "metadata": {},
   "source": [
    "Student Name: Mohamed Martini"
   ]
  },
  {
   "cell_type": "code",
   "execution_count": 1,
   "id": "sensitive-bargain",
   "metadata": {},
   "outputs": [
    {
     "name": "stdout",
     "output_type": "stream",
     "text": [
      "pygame 2.0.1 (SDL 2.0.14, Python 3.8.10)\n",
      "Hello from the pygame community. https://www.pygame.org/contribute.html\n"
     ]
    }
   ],
   "source": [
    "from trainer import train\n",
    "from learner import QAgent\n",
    "from env_small import EnvSmall\n",
    "from env_large import Env\n",
    "import numpy as np\n",
    "import matplotlib.pyplot as plt"
   ]
  },
  {
   "cell_type": "markdown",
   "id": "super-carry",
   "metadata": {},
   "source": [
    "## Overview"
   ]
  },
  {
   "cell_type": "markdown",
   "id": "sunset-probability",
   "metadata": {},
   "source": [
    "### Small Env"
   ]
  },
  {
   "cell_type": "markdown",
   "id": "enclosed-ghost",
   "metadata": {},
   "source": [
    "For this part a discrete 2D ($N \\times M$) environment was built, with dimensions $ N = M = 20 $. In this environment, the terminal state is surrounded by file, and the agent cannot reach it until it presses the button to kill the fire."
   ]
  },
  {
   "attachments": {
    "image-2.png": {
     "image/png": "[encoded data removed]"
    },
    "image-3.png": {
     "image/png": "[encoded data removed]"
    }
   },
   "cell_type": "markdown",
   "id": "unnecessary-mystery",
   "metadata": {},
   "source": [
    "![image-3.png](attachment:image-3.png)\n",
    "<h5 align=\"center\">\n",
    "    Figure 1 - Before pressing the button (blue), the terminal state (green) is surrounded by file and the agent (white) cannot get to it.\n",
    "</h5>\n",
    "\n",
    "![image-2.png](attachment:image-2.png)\n",
    "<h5 align=\"center\">\n",
    "    Figure 2 - After pressing the button (blue), the fire dies out and the agent can get to the terminal state (green).\n",
    "</h5>"
   ]
  },
  {
   "cell_type": "markdown",
   "id": "disturbed-river",
   "metadata": {},
   "source": [
    "The challenge in this environment is that it changes when the button is pressed. Certain cells which could not be visited before become available when the button is pressed. This makes the problem effectively two problems in one: in the first part, the agent must press the button (visit the blue cell), then pursue the terminal state in the second part."
   ]
  },
  {
   "cell_type": "markdown",
   "id": "anonymous-burner",
   "metadata": {},
   "source": [
    "The state vector $\\textbf{s}$ is composed of three elements: the row and column of the agent, and whether the button is pressed. "
   ]
  },
  {
   "cell_type": "markdown",
   "id": "social-nicholas",
   "metadata": {},
   "source": [
    "$$\n",
    "\\textbf{s}_t = (row_{a_t} \\in \\mathcal{R}^N , col_{a_t} \\in \\mathcal{R}^M, btn_t \\in [0, 1]); \\in \\mathcal{R}^{20 \\times 20 \\times 2}\n",
    "$$"
   ]
  },
  {
   "cell_type": "markdown",
   "id": "considered-trance",
   "metadata": {},
   "source": [
    "The agent can move in any of the four directions: "
   ]
  },
  {
   "cell_type": "markdown",
   "id": "closing-holder",
   "metadata": {},
   "source": [
    "$$\n",
    "A = \\{\\rightarrow, \\uparrow, \\downarrow, \\leftarrow\\}\n",
    "$$"
   ]
  },
  {
   "cell_type": "markdown",
   "id": "maritime-giant",
   "metadata": {},
   "source": [
    "At first, the agent was rewarded -1 at each time step, +1 for pressing the button and +1 for reaching the terminal state. While this should work theoretically, but in practice action values would take a very long time to propagate, because of the high number of timesteps in each episode and the small reward values. To fix this, the following reward profile was tried:"
   ]
  },
  {
   "cell_type": "markdown",
   "id": "human-baltimore",
   "metadata": {},
   "source": [
    "$$\n",
    "R = \n",
    "\\begin{cases}\n",
    "    -10 & \\text{each time step} \\\\\n",
    "    -100 & \\text{touching fire} \\\\\n",
    "    +100 & \\text{pressing button} \\\\\n",
    "    +200 & \\text{terminal state}\n",
    "\\end{cases}\n",
    "$$"
   ]
  },
  {
   "cell_type": "markdown",
   "id": "designing-yugoslavia",
   "metadata": {},
   "source": [
    "### Large Env"
   ]
  },
  {
   "cell_type": "markdown",
   "id": "portuguese-antarctica",
   "metadata": {},
   "source": [
    "This environment is a scaled up version of the small environment, with a main difference, which is the moving hazard. In this environment, the agent must go a long way to discover that it first needs to press the blue button, then head to the terminal state at the other end of the map, where it is faced with a moving hazard, which is the red bar shown in Fig. 3 below. If the agent spawns in the bottom half of the map, it cannot reach the terminal state unless it presses the button (similar to the small env). When the button is pressed, the fire barrier is removed, and all other fire cells become walls. "
   ]
  },
  {
   "attachments": {
    "image.png": {
     "image/png": "[encoded data removed]"
    }
   },
   "cell_type": "markdown",
   "id": "geographic-binary",
   "metadata": {},
   "source": [
    "![image.png](attachment:image.png)\n",
    "<h5 align=\"center\">\n",
    "    Figure 3 - After pressing the button (blue), the fire dies out and the agent can get to the terminal state (green).\n",
    "</h5>\n",
    "![image-2.png](attachment:image-2.png)\n",
    "<h5 align=\"center\">\n",
    "    Figure 2 - After pressing the button (blue), the fire dies out and the agent can get to the terminal state (green).\n",
    "</h5>"
   ]
  },
  {
   "cell_type": "markdown",
   "id": "fluid-negative",
   "metadata": {},
   "source": [
    "The state vector $\\textbf{s}$ is composed of three elements: the row and column of the agent, and whether the button is pressed. "
   ]
  },
  {
   "cell_type": "markdown",
   "id": "creative-grass",
   "metadata": {},
   "source": [
    "$$\n",
    "\\textbf{s}_t = (row_{a_t} \\in \\mathcal{R}^N , col_{a_t} \\in \\mathcal{R}^M, col_{f_t} \\in \\mathcal{R}^M, btn_t \\in [0, 1]); \\in \\mathcal{R}^{63 \\times 63 \\times 63 \\times 2}\n",
    "$$"
   ]
  },
  {
   "cell_type": "markdown",
   "id": "legendary-acrylic",
   "metadata": {},
   "source": [
    "The bar moves in a predicted manner, thus if we make the position of the bar to be in the state vector, then the agent can find the best actions to do when it is near the moving hazard. The added state dimension and the scaling up of the grid size makes the state space vastly larger, and the algorithm is predicted to take a long time to learn the optimal policy. The large state space as well means that small reward values will not propagate effectively. Thus, I used very large rewards, just to ensure that all the training time is not wasted. Also, I do not think that high rewards have negative impact on training, unless it is beyond the computer's capability.\n",
    "The rewards are as follows:"
   ]
  },
  {
   "cell_type": "markdown",
   "id": "isolated-police",
   "metadata": {},
   "source": [
    "$$\n",
    "R = \n",
    "\\begin{cases}\n",
    "    -1000 & \\text{each time step} \\\\\n",
    "    -10,000 & \\text{touching fire} \\\\\n",
    "    500K & \\text{pressing button} \\\\\n",
    "    1M & \\text{terminal state}\n",
    "\\end{cases}\n",
    "$$"
   ]
  },
  {
   "cell_type": "markdown",
   "id": "metropolitan-kitty",
   "metadata": {},
   "source": [
    "## Task 1"
   ]
  },
  {
   "cell_type": "markdown",
   "id": "completed-study",
   "metadata": {},
   "source": [
    "The Q learning algorithm was used due to its light weightedness and its adequacy to learn the given task. Use of a dynamic $\\varepsilon$-greedy policy, and dynamic learning rate helped reduce the number of tunable parameters, making experimentation less time costly. $\\varepsilon(s)$ and $\\alpha(s,a)$ are given by:"
   ]
  },
  {
   "cell_type": "markdown",
   "id": "double-selection",
   "metadata": {},
   "source": [
    "$$\\varepsilon(s) = \\frac{1}{\\sqrt{n(s)}}$$\n",
    "$$\\alpha(s,a)=\\frac{1}{n(s,a)}$$"
   ]
  },
  {
   "cell_type": "markdown",
   "id": "steady-musical",
   "metadata": {},
   "source": [
    "Another algorithm that could perform better at the cost of computation time is n-step SARSA, as it would help propagate the reward quickly.\n",
    "Double Q learning was avoided beacuse it would increase computation time at no forsean benefit, as both environments are not stochastic. "
   ]
  },
  {
   "cell_type": "markdown",
   "id": "divided-chaos",
   "metadata": {},
   "source": [
    "### Small Env"
   ]
  },
  {
   "cell_type": "code",
   "execution_count": null,
   "id": "southern-isaac",
   "metadata": {},
   "outputs": [
    {
     "name": "stderr",
     "output_type": "stream",
     "text": [
      "100%|██████████| 10000/10000 [00:48<00:00, 206.43it/s]\n",
      "100%|██████████| 10000/10000 [00:47<00:00, 210.13it/s]\n",
      "100%|██████████| 10000/10000 [00:51<00:00, 193.56it/s]\n",
      "100%|██████████| 10000/10000 [00:41<00:00, 243.44it/s]\n",
      "100%|██████████| 10000/10000 [00:48<00:00, 206.09it/s]\n",
      "100%|██████████| 10000/10000 [00:43<00:00, 228.89it/s]\n",
      "100%|██████████| 10000/10000 [00:47<00:00, 211.39it/s]\n",
      "100%|██████████| 10000/10000 [00:49<00:00, 201.47it/s]\n",
      " 98%|█████████▊| 9841/10000 [00:45<00:00, 294.37it/s]"
     ]
    }
   ],
   "source": [
    "actions = np.array([[0, 1], [-1, 0], [0, -1], [1, 0]])\n",
    "n_actions = 4\n",
    "n_dims_s = (n_actions, 20, 20, 2)\n",
    "n_states_s = 3\n",
    "n_episodes = 10_000\n",
    "n_runs = 50\n",
    "\n",
    "best_Q_s = None\n",
    "best_reward = - np.inf\n",
    "steps_per_e_per_r = np.zeros((n_runs, n_episodes))\n",
    "r_per_e_per_r = np.zeros((n_runs, n_episodes))\n",
    "for run in range(n_runs):\n",
    "    env = EnvSmall(n_dims_s, n_states_s, actions)\n",
    "    agent = QAgent(4, n_dims_s)\n",
    "    Q, _, _, steps_per_e, r_per_e = train(n_episodes, env, agent, vis=False)\n",
    "    steps_per_e_per_r[run] = steps_per_e\n",
    "    r_per_e_per_r[run] = r_per_e\n",
    "    if r_per_e.mean() > best_reward:\n",
    "        best_reward = r_per_e.mean()\n",
    "        best_Q_s = Q\n",
    "        np.save(\"BEST_WEIGHTS_S\", Q)"
   ]
  },
  {
   "cell_type": "code",
   "execution_count": null,
   "id": "still-ordering",
   "metadata": {},
   "outputs": [],
   "source": [
    "fig, axes = plt.subplots(nrows=1, ncols=2, figsize=(20, 10))\n",
    "fig.suptitle(f\"Q Learning Performance in Small Env\", fontsize=24)\n",
    "titles = [f\"Average Number of Time Steps Per Episode - {n_episodes} episodes over {n_runs} Runs\", \n",
    "          f\"Average Reward Per Episode - {n_episodes} episodes over {n_runs} Runs\"]\n",
    "xlabels = \"Episode Number\"\n",
    "ylabels = [\"Average Number of Time Steps\", \"Average Reward\"]\n",
    "plots = [steps_per_e_per_r, r_per_e_per_r]\n",
    "\n",
    "for i, ax in enumerate(axes):\n",
    "    ax.set_title(titles[i], fontsize=20)\n",
    "    ax.set_xlabel(xlabels, fontsize=18)\n",
    "    ax.set_ylabel(ylabels[i], fontsize=18)\n",
    "    ax.plot(plots[i].mean(0))\n",
    "    ax.grid()\n",
    "\n",
    "plt.tight_layout()\n",
    "plt.show()"
   ]
  },
  {
   "cell_type": "markdown",
   "id": "caroline-mambo",
   "metadata": {},
   "source": [
    "### Large Env"
   ]
  },
  {
   "cell_type": "code",
   "execution_count": null,
   "id": "bibliographic-halloween",
   "metadata": {},
   "outputs": [],
   "source": [
    "n_dims_l = (n_actions, 63, 63, 63, 2)\n",
    "n_states_l = 4\n",
    "n_episodes = 10_000\n",
    "n_runs = 50\n",
    "\n",
    "best_Q = None\n",
    "best_reward = - np.inf\n",
    "steps_per_e_per_r = np.zeros((n_runs, n_episodes))\n",
    "r_per_e_per_r = np.zeros((n_runs, n_episodes))\n",
    "for run in range(n_runs):\n",
    "    env = Env(n_dims_l, n_states_l, actions)\n",
    "    agent = QAgent(4, n_dims_l)\n",
    "    Q, _, _, steps_per_e, r_per_e = train(n_episodes, env, agent, vis=False)\n",
    "    steps_per_e_per_r[run] = steps_per_e\n",
    "    r_per_e_per_r[run] = r_per_e\n",
    "    if r_per_e.mean() > best_reward:\n",
    "        best_reward = r_per_e.mean()\n",
    "        best_Q = Q\n",
    "\n",
    "        np.save(\"BEST_WEIGHTS_L\", Q)\n",
    "np.save(\"STEPS_PER_E_PER_R\", steps_per_e_per_r)\n",
    "np.save(\"R_PER_E_PER_R\", r_per_e_per_r)"
   ]
  },
  {
   "cell_type": "code",
   "execution_count": null,
   "id": "brown-glucose",
   "metadata": {},
   "outputs": [],
   "source": [
    "fig, axes = plt.subplots(nrows=1, ncols=2, figsize=(20, 10))\n",
    "fig.suptitle(f\"Q Learning Performance in Large Env\", fontsize=24)\n",
    "titles = [f\"Average Number of Time Steps Per Episode - {n_episodes} episodes over {n_runs} Runs\", \n",
    "          f\"Average Reward Per Episode - {n_episodes} episodes over {n_runs} Runs\"]\n",
    "xlabels = \"Episode Number\"\n",
    "ylabels = [\"Average Number of Time Steps\", \"Average Reward\"]\n",
    "plots = [steps_per_e_per_r, r_per_e_per_r]\n",
    "\n",
    "for i, ax in enumerate(axes):\n",
    "    ax.set_title(titles[i], fontsize=20)\n",
    "    ax.set_xlabel(xlabels, fontsize=18)\n",
    "    ax.set_ylabel(ylabels[i], fontsize=18)\n",
    "    ax.plot(plots[i].mean(0), color=\"red\")\n",
    "    ax.grid()\n",
    "\n",
    "plt.tight_layout()\n",
    "plt.show()"
   ]
  },
  {
   "cell_type": "markdown",
   "id": "opened-position",
   "metadata": {},
   "source": [
    "## Evaluation"
   ]
  },
  {
   "cell_type": "code",
   "execution_count": null,
   "id": "pacific-greece",
   "metadata": {},
   "outputs": [],
   "source": []
  }
 ],
 "metadata": {
  "kernelspec": {
   "display_name": "Python 3",
   "language": "python",
   "name": "python3"
  },
  "language_info": {
   "codemirror_mode": {
    "name": "ipython",
    "version": 3
   },
   "file_extension": ".py",
   "mimetype": "text/x-python",
   "name": "python",
   "nbconvert_exporter": "python",
   "pygments_lexer": "ipython3",
   "version": "3.8.10"
  }
 },
 "nbformat": 4,
 "nbformat_minor": 5
}
