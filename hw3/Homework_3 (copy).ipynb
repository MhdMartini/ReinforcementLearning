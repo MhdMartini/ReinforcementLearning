{
 "cells": [
  {
   "cell_type": "markdown",
   "metadata": {},
   "source": [
    "<center>\n",
    "    COMP4600/5500 - Reinforcement Learning\n",
    "\n",
    "# Homework 3 - Dynamic Programming\n",
    "\n",
    "### Due: Monday, October 4th 11:59 pm\n",
    "    \n",
    "</center>"
   ]
  },
  {
   "cell_type": "markdown",
   "metadata": {},
   "source": [
    "Student Name: Mohamed Martini"
   ]
  },
  {
   "cell_type": "markdown",
   "metadata": {},
   "source": [
    "The purpose of this project is to study different properties of dynamic programming methods. "
   ]
  },
  {
   "cell_type": "code",
   "execution_count": 1,
   "metadata": {},
   "outputs": [
    {
     "data": {
      "text/html": [
       "<style>.container { width:100% !important; }</style>"
      ],
      "text/plain": [
       "<IPython.core.display.HTML object>"
      ]
     },
     "metadata": {},
     "output_type": "display_data"
    }
   ],
   "source": [
    "from IPython.core.display import display, HTML\n",
    "display(HTML(\"<style>.container { width:100% !important; }</style>\"))"
   ]
  },
  {
   "cell_type": "code",
   "execution_count": 2,
   "metadata": {},
   "outputs": [],
   "source": [
    "# You are allowed to use the following modules\n",
    "import numpy as np\n",
    "import matplotlib.pyplot as plt"
   ]
  },
  {
   "attachments": {
    "g1313.png": {
     "image/png": "[encoded data removed]"
    }
   },
   "cell_type": "markdown",
   "metadata": {},
   "source": [
    "## Part I\n",
    "Consider a cleaning robot that must collect an empty can and also has to recharge its batteries.\n",
    "![g1313.png](attachment:g1313.png)\n",
    "\n",
    "This problem has a discrete state space $S=\\{0,…,9\\}$, where state $s$ describes the position of the robot in the corridor. The robot has only two actions $A=\\{-1,1\\}$ for going one step to the left or right. States $0$ and $9$ are terminal, meaning that once the robot reaches either of them it can no longer leave, regardless of the action, and the episode ends. We assume this is a deterministic environment with $\\gamma=0.9$.\n",
    "\n"
   ]
  },
  {
   "cell_type": "code",
   "execution_count": 15,
   "metadata": {},
   "outputs": [],
   "source": [
    "class QLearner:\n",
    "    \"\"\"\n",
    "    base class for a Q learner class with value iteration method\n",
    "    child classes shall only provide their custom dynamics\n",
    "    \"\"\"\n",
    "    def __init__(self, \n",
    "                 S,  # set of states\n",
    "                 A,  # set of actions\n",
    "                 gamma):  # discount parameter\n",
    "        self.S = S\n",
    "        self.num_states = S.shape[0]\n",
    "\n",
    "        self.A = A\n",
    "        self.num_actions = A.shape[0]\n",
    "        \n",
    "        self.gamma = gamma\n",
    "        \n",
    "        self.V = np.zeros(self.num_states)  # 9 states\n",
    "        self.Q = np.zeros((self.num_actions, self.num_states))  # 9 states and two actions per state\n",
    "\n",
    "    def dynamic_a(self, s):\n",
    "        \"\"\"return possible actions and their probabilities given a state s\"\"\"\n",
    "        return ([None], [None])\n",
    "    \n",
    "    def dynamic_s_pr(self, s, a):\n",
    "        \"\"\"return possible states and their probabilities given state s and action a\"\"\"\n",
    "        return ([None], [None])\n",
    "    \n",
    "    def dynamic_r(self, s, a, s_pr):\n",
    "        \"\"\"return possible rewards and their probabilities given state s and action a and next state s_pr\"\"\"\n",
    "        return ([None], [None])\n",
    "    \n",
    "    def v_iteration(self, thresh=0.01):\n",
    "        \"\"\"value iteration algorithm\"\"\"\n",
    "        while True:\n",
    "            delta = 0\n",
    "            for s in range(self.num_states):\n",
    "                v_s = 0\n",
    "                A = self.dynamic_a(s)\n",
    "                for a in np.where(A>0)[0]:\n",
    "                    p_a = A[a]\n",
    "                    \n",
    "                    q_as = 0\n",
    "                    S_pr = self.dynamic_s_pr(s, a)\n",
    "                    for s_p in np.where(S_pr>0)[0]:\n",
    "                        p_s_p = S_pr[s_p]\n",
    "                        \n",
    "                        R = self.dynamic_r(s, a, s_p)\n",
    "                        for r in np.where(R>0)[0]:\n",
    "                            p_r = R[r]\n",
    "#                         for r, p_r in enumerate(R):\n",
    "                            \n",
    "                            q = p_s_p * p_r * (r + self.gamma * self.V[s_p])\n",
    "                            q_as += q\n",
    "                            v_s += p_a * q\n",
    "#                             if s == 49 and s_p == 98: print(f\"{q := }\")\n",
    "#                                 print(f\"s:\\t{s}\\ta:\\t{a}\\\\{p_a}\\ts':\\t{s_p}\\\\{p_s_p}\\tr:\\t{r}\\\\{p_r}\\t\")\n",
    "#                                 print(f\"q:\\t{q}\\tv_s:\\t{v_s}\\t\")\n",
    "#                                 if input():\n",
    "#                                     return np.zeros(self.num_states), np.zeros(self.num_states)\n",
    "                            \n",
    "                    self.Q[a, s] = q_as\n",
    "#                     if s == 49:\n",
    "#                         print(f\"self.Q[{a}, {s}] = {q_as}\\n\")\n",
    "                old = self.V[s]\n",
    "                self.V[s] = v_s\n",
    "#                 if s == 49:\n",
    "#                     print(f\"self.V[{s}] = {old} -> {v_s}\\n\\n\")\n",
    "                delta = max(delta, self.V[s] - old)\n",
    "            if delta < thresh:\n",
    "                break\n",
    "        return self.V, self.Q\n",
    "    \n",
    "    def a_star(self):\n",
    "        \"\"\"get optimal policy\"\"\"\n",
    "        Pi_star = np.zeros(self.num_states, dtype=int)  # to hold optimal actions\n",
    "        for s in range(1, self.num_states - 1):\n",
    "            Pi_star[s] = self.A[np.argmax(self.Q[:, s])]\n",
    "        return Pi_star\n",
    "    "
   ]
  },
  {
   "cell_type": "code",
   "execution_count": 16,
   "metadata": {},
   "outputs": [],
   "source": [
    "class CleaningRobot(QLearner):\n",
    "    \"\"\"Q learner class for problem 1\"\"\"\n",
    "    def __init__(self, \n",
    "                 S,  # set of states\n",
    "                 A,  # set of actions\n",
    "                 gamma):  # discount parameter\n",
    "        super(CleaningRobot, self).__init__(S, A, gamma)\n",
    "\n",
    "    def dynamic_a(self, s):\n",
    "        \"\"\"get available actions in state s\"\"\"\n",
    "        if s in (0, 9):\n",
    "            # no action is taken\n",
    "            return np.zeros(self.num_actions)\n",
    "        return np.array([0.5, 0.5])\n",
    "\n",
    "    def dynamic_s_pr(self, s, a):\n",
    "        \"\"\"state-transition function\"\"\"\n",
    "        if s in (0, 9):\n",
    "            # no action is taken\n",
    "            return np.zeros(self.num_states)\n",
    "        S_pr = np.zeros(self.num_states)\n",
    "        S_pr[s + self.A[a]] = 1\n",
    "        return S_pr\n",
    "\n",
    "    def dynamic_r(self, s, a, s_pr):\n",
    "        \"\"\"reward function\"\"\"\n",
    "        R = np.zeros(6)\n",
    "        if s == 8 and a == 1:\n",
    "            R[5] = 1\n",
    "        elif s == 1 and a == 0:\n",
    "            R[1] = 1\n",
    "        else: R[0] = 1\n",
    "        return R"
   ]
  },
  {
   "cell_type": "code",
   "execution_count": 17,
   "metadata": {},
   "outputs": [],
   "source": [
    "def print_1d(array, name):\n",
    "    \"\"\"to print a 1d array\"\"\"\n",
    "    print(\"{} = (\".format(name))\n",
    "    [print(round(n,2), end=\",\\t\") for n in array]\n",
    "    print(\"\\n)\\n\")\n"
   ]
  },
  {
   "cell_type": "code",
   "execution_count": 18,
   "metadata": {},
   "outputs": [
    {
     "name": "stdout",
     "output_type": "stream",
     "text": [
      "V* = (\n",
      "0.0,\t0.77,\t0.6,\t0.57,\t0.68,\t0.94,\t1.42,\t2.21,\t3.49,\t0.0,\t\n",
      ")\n",
      "\n",
      "π* = (\n",
      "0,\t-1,\t-1,\t1,\t1,\t1,\t1,\t1,\t1,\t0,\t\n",
      ")\n",
      "\n"
     ]
    }
   ],
   "source": [
    "S = np.array(range(10))\n",
    "A = np.array((-1, 1), dtype=int)\n",
    "gamma = 0.9\n",
    "\n",
    "\n",
    "\n",
    "\n",
    "cr = CleaningRobot(S, A, gamma)\n",
    "V, Q = cr.v_iteration(thresh=0.01)\n",
    "Pi_star = cr.a_star()\n",
    "\n",
    "print_1d(V, \"V*\")\n",
    "print_1d(Pi_star, \"\\u03C0*\")"
   ]
  },
  {
   "cell_type": "markdown",
   "metadata": {},
   "source": [
    "\n",
    "\n",
    "\n",
    "<hr>"
   ]
  },
  {
   "cell_type": "markdown",
   "metadata": {},
   "source": [
    "## Part II (*)\n",
    "A gambler has the opportunity to make bets on the outcomes of a sequence of coin flips. If the coin comes up heads, he wins as many dollars as he has staked on that flip; if it is tails, he loses his stake. The game ends when the gambler wins by reaching his goal of \\$100, or loses by running out of money. \n",
    "\n",
    "On each flip, the gambler must decide what portion of his capital to stake, in integer numbers of dollars. This problem can be formulated as an **undiscounted** ($\\gamma=1$), **episodic**, finite MDP.\n",
    "\n",
    "The state is the gambler’s capital $s \\in \\{ 1,2,...,99\\}$ and the actions are stakes $a \\in \\{ 0,1,..., min(s, 100-s)\\}$. The reward is zero on all transitions except those on which the gambler reaches his goal, when it is +1. \n",
    "The state-value function then gives the probability of winning from each state. \n",
    "\n",
    "A policy is mapping from levels of capital to stakes. The optimal policy maximizes the probability of reaching the goal. \n",
    "Let’s p_h denote the probability of the coin coming up heads. If $p_h$ is known the problem can be solved using value iteration.\n",
    "\n"
   ]
  },
  {
   "cell_type": "markdown",
   "metadata": {},
   "source": [
    "### II.1\n",
    "Implement the Gambler’s problem and then implement **value iteration** to solve the MDP for three scenarios where $p_h=\\{0.4,0.25,0.55\\}$ and find the optimal value function and optimal policy for each scenario.\n",
    "\n",
    "**Tip**: When implementing, you might find it convenient to introduce two dummy states corresponding to termination with capital of 0 and 100, giving them values of 0 and 1 respectively."
   ]
  },
  {
   "cell_type": "code",
   "execution_count": 19,
   "metadata": {},
   "outputs": [],
   "source": [
    "class Gambler(QLearner):\n",
    "    \"\"\"Q learner class for problem 1\"\"\"\n",
    "    def __init__(self, \n",
    "                 S,  # set of states\n",
    "                 A,  # set of actions\n",
    "                 gamma,  # discount parameter\n",
    "                 p_h):  # probability of head\n",
    "        super(Gambler, self).__init__(S, A, gamma)\n",
    "        self.p_h = p_h\n",
    "\n",
    "    def dynamic_a(self, s):\n",
    "        A = np.zeros(self.num_actions)\n",
    "        if s in (0, 100):\n",
    "            return A\n",
    "        \"\"\"get available actions in state s\"\"\"\n",
    "        biggest_bid = min(s, 100 - s)\n",
    "        A[1 : biggest_bid + 1] = 1 / biggest_bid\n",
    "        return A\n",
    "    \n",
    "    def dynamic_s_pr(self, s, a):\n",
    "        \"\"\"state-transition function\"\"\"\n",
    "        S_pr = np.zeros(self.num_states)\n",
    "        if s in (0, 100):\n",
    "            S_pr[0] = 1\n",
    "            return S_pr\n",
    "        S_pr[s + a] = self.p_h  # agent wins\n",
    "        S_pr[s - a] = 1 - self.p_h  # agent loses\n",
    "        return S_pr\n",
    "    \n",
    "    def dynamic_r(self, s, a, s_pr):\n",
    "        \"\"\"reward function\"\"\"\n",
    "        R = np.zeros(self.num_states)\n",
    "        if s + a == 100 and s != 100:\n",
    "            R[1] = 1\n",
    "        else:\n",
    "            R[0] = 1\n",
    "        return R"
   ]
  },
  {
   "cell_type": "code",
   "execution_count": 48,
   "metadata": {},
   "outputs": [
    {
     "name": "stdout",
     "output_type": "stream",
     "text": [
      "V* = (\n",
      "0.0,\t0.0,\t0.01,\t0.01,\t0.02,\t0.02,\t0.03,\t0.03,\t0.04,\t0.05,\t0.06,\t0.07,\t0.08,\t0.09,\t0.1,\t0.11,\t0.12,\t0.13,\t0.14,\t0.16,\t0.17,\t0.18,\t0.19,\t0.21,\t0.22,\t0.24,\t0.25,\t0.27,\t0.28,\t0.3,\t0.31,\t0.33,\t0.35,\t0.36,\t0.38,\t0.4,\t0.41,\t0.43,\t0.45,\t0.47,\t0.49,\t0.51,\t0.53,\t0.55,\t0.57,\t0.59,\t0.61,\t0.63,\t0.66,\t0.68,\t0.71,\t0.73,\t0.74,\t0.76,\t0.78,\t0.8,\t0.82,\t0.84,\t0.86,\t0.88,\t0.9,\t0.93,\t0.95,\t0.97,\t1.0,\t1.02,\t1.04,\t1.07,\t1.09,\t1.12,\t1.15,\t1.17,\t1.2,\t1.23,\t1.25,\t1.28,\t1.31,\t1.34,\t1.37,\t1.4,\t1.43,\t1.46,\t1.49,\t1.53,\t1.56,\t1.6,\t1.63,\t1.67,\t1.71,\t1.75,\t1.79,\t1.84,\t1.88,\t1.93,\t1.99,\t2.04,\t2.11,\t2.17,\t2.25,\t2.35,\t0.0,\t\n",
      ")\n",
      "\n",
      "π* = (\n",
      "0,\t1,\t2,\t3,\t4,\t5,\t6,\t7,\t8,\t9,\t10,\t11,\t12,\t13,\t14,\t15,\t16,\t17,\t18,\t19,\t20,\t21,\t22,\t23,\t24,\t25,\t26,\t27,\t28,\t29,\t30,\t31,\t32,\t33,\t34,\t35,\t36,\t37,\t38,\t39,\t40,\t41,\t42,\t43,\t44,\t45,\t46,\t47,\t48,\t49,\t50,\t49,\t48,\t47,\t46,\t45,\t44,\t43,\t42,\t41,\t40,\t39,\t38,\t37,\t36,\t35,\t34,\t33,\t32,\t31,\t30,\t29,\t28,\t27,\t26,\t25,\t24,\t23,\t22,\t21,\t20,\t19,\t18,\t17,\t16,\t15,\t14,\t13,\t12,\t11,\t10,\t9,\t8,\t7,\t6,\t5,\t4,\t3,\t2,\t1,\t0,\t\n",
      ")\n",
      "\n"
     ]
    }
   ],
   "source": [
    "S = np.array(range(101))\n",
    "A = np.array(range(101))\n",
    "gamma = 1\n",
    "p_h = 0.4\n",
    "\n",
    "\n",
    "prob2 = Gambler(S, A, gamma, p_h)\n",
    "V, Q = prob2.v_iteration(thresh=0.0000000001)\n",
    "Pi_star = prob2.a_star()\n",
    "\n",
    "print_1d(V, \"V*\")\n",
    "print_1d(Pi_star, \"\\u03C0*\")"
   ]
  },
  {
   "cell_type": "code",
   "execution_count": 49,
   "metadata": {},
   "outputs": [
    {
     "data": {
      "text/plain": [
       "[<matplotlib.lines.Line2D at 0x7f6707ed65b0>]"
      ]
     },
     "execution_count": 49,
     "metadata": {},
     "output_type": "execute_result"
    },
    {
     "data": {
      "image/png": "[encoded data removed]",
      "text/plain": [
       "<Figure size 432x288 with 1 Axes>"
      ]
     },
     "metadata": {
      "needs_background": "light"
     },
     "output_type": "display_data"
    }
   ],
   "source": [
    "plt.plot(Pi_star)"
   ]
  },
  {
   "cell_type": "code",
   "execution_count": 50,
   "metadata": {},
   "outputs": [
    {
     "data": {
      "text/plain": [
       "[<matplotlib.lines.Line2D at 0x7f6707ea7d90>]"
      ]
     },
     "execution_count": 50,
     "metadata": {},
     "output_type": "execute_result"
    },
    {
     "data": {
      "image/png": "[encoded data removed]",
      "text/plain": [
       "<Figure size 432x288 with 1 Axes>"
      ]
     },
     "metadata": {
      "needs_background": "light"
     },
     "output_type": "display_data"
    }
   ],
   "source": [
    "plt.plot(V)"
   ]
  },
  {
   "cell_type": "code",
   "execution_count": 52,
   "metadata": {},
   "outputs": [
    {
     "data": {
      "text/plain": [
       "<matplotlib.image.AxesImage at 0x7f6707e7ae50>"
      ]
     },
     "execution_count": 52,
     "metadata": {},
     "output_type": "execute_result"
    },
    {
     "data": {
      "image/png": "[encoded data removed]",
      "text/plain": [
       "<Figure size 432x288 with 1 Axes>"
      ]
     },
     "metadata": {
      "needs_background": "light"
     },
     "output_type": "display_data"
    }
   ],
   "source": [
    "plt.imshow(Q[:50])"
   ]
  },
  {
   "cell_type": "code",
   "execution_count": 51,
   "metadata": {},
   "outputs": [
    {
     "ename": "AssertionError",
     "evalue": "",
     "output_type": "error",
     "traceback": [
      "\u001b[0;31m---------------------------------------------------------------------------\u001b[0m",
      "\u001b[0;31mAssertionError\u001b[0m                            Traceback (most recent call last)",
      "\u001b[0;32m<ipython-input-51-a871fdc9ebee>\u001b[0m in \u001b[0;36m<module>\u001b[0;34m\u001b[0m\n\u001b[0;32m----> 1\u001b[0;31m \u001b[0;32massert\u001b[0m \u001b[0;32mFalse\u001b[0m\u001b[0;34m\u001b[0m\u001b[0;34m\u001b[0m\u001b[0m\n\u001b[0m",
      "\u001b[0;31mAssertionError\u001b[0m: "
     ]
    }
   ],
   "source": [
    "assert False"
   ]
  },
  {
   "cell_type": "markdown",
   "metadata": {},
   "source": [
    "### II.2\n",
    "For all three scenarios:\n",
    "1. Plot the change in the value function over successive sweeps of value iteration w.r.t capital (state).\n",
    "2. Plot the final policy w.r.t capital (state). \n",
    "\n"
   ]
  },
  {
   "cell_type": "code",
   "execution_count": null,
   "metadata": {},
   "outputs": [],
   "source": [
    "# Your code here"
   ]
  },
  {
   "cell_type": "markdown",
   "metadata": {},
   "source": [
    "### II.3\n",
    "Answer the following questions:\n",
    "1. What action does your optimal policy suggest for capital of 50? What about for capital of 51?\n",
    "> Answer:\n",
    "\n",
    "2. Why do you think your optimal policy is a good policy? Explain.\n",
    "> Answer:\n",
    "    \n"
   ]
  },
  {
   "cell_type": "markdown",
   "metadata": {},
   "source": [
    "## Part III (extra credit)\n",
    "Test the algorithm by decreasing $\\theta$ the threshold for accuracy of value function estimation. What happens when $\\theta \\rightarrow 0$? You can add any helpful code/graphs if you have."
   ]
  },
  {
   "cell_type": "markdown",
   "metadata": {},
   "source": [
    "> Answer"
   ]
  }
 ],
 "metadata": {
  "kernelspec": {
   "display_name": "Python 3",
   "language": "python",
   "name": "python3"
  },
  "language_info": {
   "codemirror_mode": {
    "name": "ipython",
    "version": 3
   },
   "file_extension": ".py",
   "mimetype": "text/x-python",
   "name": "python",
   "nbconvert_exporter": "python",
   "pygments_lexer": "ipython3",
   "version": "3.8.10"
  }
 },
 "nbformat": 4,
 "nbformat_minor": 4
}
