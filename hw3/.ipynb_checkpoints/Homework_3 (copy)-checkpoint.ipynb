{
 "cells": [
  {
   "cell_type": "markdown",
   "metadata": {},
   "source": [
    "<center>\n",
    "    COMP4600/5500 - Reinforcement Learning\n",
    "\n",
    "# Homework 3 - Dynamic Programming\n",
    "\n",
    "### Due: Monday, October 4th 11:59 pm\n",
    "    \n",
    "</center>"
   ]
  },
  {
   "cell_type": "markdown",
   "metadata": {},
   "source": [
    "Student Name: Mohamed Martini"
   ]
  },
  {
   "cell_type": "markdown",
   "metadata": {},
   "source": [
    "The purpose of this project is to study different properties of dynamic programming methods. "
   ]
  },
  {
   "cell_type": "code",
   "execution_count": 1,
   "metadata": {},
   "outputs": [],
   "source": [
    "# You are allowed to use the following modules\n",
    "import numpy as np\n",
    "import matplotlib.pyplot as plt"
   ]
  },
  {
   "attachments": {
    "g1313.png": {
     "image/png": "[encoded data removed]"
    }
   },
   "cell_type": "markdown",
   "metadata": {},
   "source": [
    "## Part I\n",
    "Consider a cleaning robot that must collect an empty can and also has to recharge its batteries.\n",
    "![g1313.png](attachment:g1313.png)\n",
    "\n",
    "This problem has a discrete state space $S=\\{0,…,9\\}$, where state $s$ describes the position of the robot in the corridor. The robot has only two actions $A=\\{-1,1\\}$ for going one step to the left or right. States $0$ and $9$ are terminal, meaning that once the robot reaches either of them it can no longer leave, regardless of the action, and the episode ends. We assume this is a deterministic environment with $\\gamma=0.9$.\n",
    "\n"
   ]
  },
  {
   "cell_type": "code",
   "execution_count": 2,
   "metadata": {},
   "outputs": [],
   "source": [
    "class QLearner:\n",
    "    \"\"\"\n",
    "    base class for a Q learner class with value iteration method\n",
    "    child classes shall only provide their custom dynamics\n",
    "    \"\"\"\n",
    "    def __init__(self, \n",
    "                 S,  # set of states\n",
    "                 A,  # set of actions\n",
    "                 gamma):  # discount parameter\n",
    "        self.S = S\n",
    "        self.num_states = S.shape[0]\n",
    "\n",
    "        self.A = A\n",
    "        self.num_actions = A.shape[0]\n",
    "        \n",
    "        self.gamma = gamma\n",
    "        \n",
    "        self.V = np.zeros(self.num_states)  # 9 states\n",
    "        self.Q = np.zeros((self.num_actions, self.num_states))  # 9 states and two actions per state\n",
    "\n",
    "    def dynamic_a(self, s):\n",
    "        \"\"\"return possible actions and their probabilities given a state s\"\"\"\n",
    "        return ([None], [None])\n",
    "    \n",
    "    def dynamic_s_pr(self, s, a):\n",
    "        \"\"\"return possible states and their probabilities given state s and action a\"\"\"\n",
    "        return ([None], [None])\n",
    "    \n",
    "    def dynamic_r(self, s, a, s_pr):\n",
    "        \"\"\"return possible rewards and their probabilities given state s and action a and next state s_pr\"\"\"\n",
    "        return ([None], [None])\n",
    "    \n",
    "    def v_iteration(self, thresh=0.01):\n",
    "        \"\"\"value iteration algorithm\"\"\"\n",
    "        while True:\n",
    "            delta = 0\n",
    "            for s in range(self.num_states):\n",
    "#                 print(f\"{s =: }\")\n",
    "                v_s = 0\n",
    "                dynamic_a = self.dynamic_a(s)\n",
    "                for a, p_a in zip(dynamic_a[0], dynamic_a[1]):\n",
    "#                     print(f\"{a =: }, {p_a =: }\")\n",
    "                    q_as = 0\n",
    "                    dynamic_s_pr = self.dynamic_s_pr(s, a)\n",
    "                    for s_p, p_s_p in zip(dynamic_s_pr[0], dynamic_s_pr[1]):\n",
    "#                         print(f\"{s_p =: }, {p_s_p =: }\")\n",
    "                        dynamic_r = self.dynamic_r(s, a, s_p)\n",
    "                        for r, p_r in zip(dynamic_r[0], dynamic_r[1]):\n",
    "#                             print(f\"{r =: }, {p_r =: }\")\n",
    "                            q = p_s_p * p_r * (r + self.gamma * self.V[s_p])\n",
    "                            q_as += q\n",
    "                            v_s += p_a * q_as\n",
    "                            if q == np.inf:\n",
    "                                print(f\"self.V[{s_p}] = {self.V[s_p]}\")\n",
    "                                return\n",
    "#                             print(f\"s:\\t{s}\\ta:\\t{a}\\ts':\\t{a}\\tr:\\t{r}\")\n",
    "#                             print()\n",
    "#                             if input():\n",
    "#                                 return (0, 0)\n",
    "                            \n",
    "                    self.Q[a, s] = q_as\n",
    "                old = self.V[s]\n",
    "                self.V[s] = v_s\n",
    "                delta = max(delta, self.V[s] - old)\n",
    "            if delta < thresh:\n",
    "                break\n",
    "        return self.V, self.Q\n",
    "\n",
    "    def a_star(self):\n",
    "        \"\"\"get optimal policy\"\"\"\n",
    "        Pi_star = np.zeros(self.num_states, dtype=int)  # to hold optimal actions\n",
    "        for s in range(1, self.num_states - 1):\n",
    "            Pi_star[s] = self.A[np.argmax(self.Q[:, s])]\n",
    "        return Pi_star\n",
    "    "
   ]
  },
  {
   "cell_type": "code",
   "execution_count": 4,
   "metadata": {},
   "outputs": [],
   "source": [
    "class CleaningRobot(QLearner):\n",
    "    \"\"\"Q learner class for problem 1\"\"\"\n",
    "    def __init__(self, \n",
    "                 S,  # set of states\n",
    "                 A,  # set of actions\n",
    "                 gamma):  # discount parameter\n",
    "        super(CleaningRobot, self).__init__(S, A, gamma)\n",
    "\n",
    "    def dynamic_a(self, s):\n",
    "        if s in (0, 9):\n",
    "            return ([], [])\n",
    "        \"\"\"get available actions in state s\"\"\"\n",
    "        return ([0, 1], [0.5, 0.5])\n",
    "    \n",
    "    def dynamic_s_pr(self, s, a):\n",
    "        \"\"\"state-transition function\"\"\"\n",
    "        if s in (0, 9):\n",
    "            return ([], [])\n",
    "        s_pr = min(max(s + self.A[a], 0), 9)\n",
    "        return ([s_pr], [1])\n",
    "    \n",
    "    def dynamic_r(self, s, a, s_pr):\n",
    "        \"\"\"reward function\"\"\"\n",
    "        if s == 8 and a == 1:\n",
    "            return ([5], [1])\n",
    "        if s == 1 and a == 0:\n",
    "            return ([1], [1])\n",
    "        return ([0], [1])"
   ]
  },
  {
   "cell_type": "code",
   "execution_count": 5,
   "metadata": {},
   "outputs": [],
   "source": [
    "def print_1d(array, name):\n",
    "    \"\"\"to print a 1d array\"\"\"\n",
    "    print(\"{} = (\".format(name))\n",
    "    [print(round(n,2), end=\",\\t\") for n in array]\n",
    "    print(\"\\n)\\n\")\n"
   ]
  },
  {
   "cell_type": "code",
   "execution_count": 6,
   "metadata": {},
   "outputs": [
    {
     "name": "stdout",
     "output_type": "stream",
     "text": [
      "V* = (\n",
      "0.0,\t0.78,\t0.61,\t0.59,\t0.69,\t0.95,\t1.43,\t2.21,\t3.5,\t0.0,\t\n",
      ")\n",
      "\n",
      "π* = (\n",
      "0,\t-1,\t-1,\t1,\t1,\t1,\t1,\t1,\t1,\t0,\t\n",
      ")\n",
      "\n"
     ]
    }
   ],
   "source": [
    "S = np.array(range(10))\n",
    "A = np.array((-1, 1), dtype=int)\n",
    "gamma = 0.9\n",
    "\n",
    "cr = CleaningRobot(S, A, gamma)\n",
    "V, Q = cr.v_iteration(thresh=0.001)\n",
    "Pi_star = cr.a_star()\n",
    "\n",
    "print_1d(V, \"V*\")\n",
    "print_1d(Pi_star, \"\\u03C0*\")"
   ]
  },
  {
   "cell_type": "markdown",
   "metadata": {},
   "source": [
    "<hr>"
   ]
  },
  {
   "cell_type": "markdown",
   "metadata": {},
   "source": [
    "## Part II (*)\n",
    "A gambler has the opportunity to make bets on the outcomes of a sequence of coin flips. If the coin comes up heads, he wins as many dollars as he has staked on that flip; if it is tails, he loses his stake. The game ends when the gambler wins by reaching his goal of \\$100, or loses by running out of money. \n",
    "\n",
    "On each flip, the gambler must decide what portion of his capital to stake, in integer numbers of dollars. This problem can be formulated as an **undiscounted** ($\\gamma=1$), **episodic**, finite MDP.\n",
    "\n",
    "The state is the gambler’s capital $s \\in \\{ 1,2,...,99\\}$ and the actions are stakes $a \\in \\{ 0,1,..., min(s, 100-s)\\}$. The reward is zero on all transitions except those on which the gambler reaches his goal, when it is +1. \n",
    "The state-value function then gives the probability of winning from each state. \n",
    "\n",
    "A policy is mapping from levels of capital to stakes. The optimal policy maximizes the probability of reaching the goal. \n",
    "Let’s p_h denote the probability of the coin coming up heads. If $p_h$ is known the problem can be solved using value iteration.\n",
    "\n"
   ]
  },
  {
   "cell_type": "markdown",
   "metadata": {},
   "source": [
    "### II.1\n",
    "Implement the Gambler’s problem and then implement **value iteration** to solve the MDP for three scenarios where $p_h=\\{0.4,0.25,0.55\\}$ and find the optimal value function and optimal policy for each scenario.\n",
    "\n",
    "**Tip**: When implementing, you might find it convenient to introduce two dummy states corresponding to termination with capital of 0 and 100, giving them values of 0 and 1 respectively."
   ]
  },
  {
   "cell_type": "code",
   "execution_count": 37,
   "metadata": {},
   "outputs": [],
   "source": [
    "class Gambler(QLearner):\n",
    "    \"\"\"Q learner class for problem 1\"\"\"\n",
    "    def __init__(self, \n",
    "                 S,  # set of states\n",
    "                 A,  # set of actions\n",
    "                 gamma,  # discount parameter\n",
    "                 p_h):  # probability of head\n",
    "        super(Gambler, self).__init__(S, A, gamma)\n",
    "        self.p_h = p_h\n",
    "\n",
    "    def dynamic_a(self, s):\n",
    "        if s in (0, 100):\n",
    "            return ([], [])\n",
    "        \"\"\"get available actions in state s\"\"\"\n",
    "        num_actions = min(s, 100 - s)\n",
    "        actions = np.arange(1, num_actions + 1) / 1\n",
    "        probs = np.ones(num_actions) / num_actions  # equal probabilities\n",
    "        return (actions, probs)\n",
    "    \n",
    "    def dynamic_s_pr(self, s, a):\n",
    "        \"\"\"state-transition function\"\"\"\n",
    "        if s in (0, 100):\n",
    "            return ([], [])\n",
    "        s_pr_win = s + a  # agent wins\n",
    "        s_pr_lose = s - a  # agent loses\n",
    "        return ([s_pr_win , s_pr_lose], [self.p_h, 1 - self.p_h])\n",
    "    \n",
    "    def dynamic_r(self, s, a, s_pr):\n",
    "        \"\"\"reward function\"\"\"\n",
    "        if s_pr == 100:\n",
    "            return ([1.], [1.])\n",
    "        return ([0.], [1.])"
   ]
  },
  {
   "cell_type": "code",
   "execution_count": 38,
   "metadata": {},
   "outputs": [
    {
     "ename": "IndexError",
     "evalue": "only integers, slices (`:`), ellipsis (`...`), numpy.newaxis (`None`) and integer or boolean arrays are valid indices",
     "output_type": "error",
     "traceback": [
      "\u001b[0;31m---------------------------------------------------------------------------\u001b[0m",
      "\u001b[0;31mIndexError\u001b[0m                                Traceback (most recent call last)",
      "\u001b[0;32m<ipython-input-38-903b5b9c93a3>\u001b[0m in \u001b[0;36m<module>\u001b[0;34m\u001b[0m\n\u001b[1;32m      6\u001b[0m \u001b[0;34m\u001b[0m\u001b[0m\n\u001b[1;32m      7\u001b[0m \u001b[0mprob2\u001b[0m \u001b[0;34m=\u001b[0m \u001b[0mGambler\u001b[0m\u001b[0;34m(\u001b[0m\u001b[0mS\u001b[0m\u001b[0;34m,\u001b[0m \u001b[0mA\u001b[0m\u001b[0;34m,\u001b[0m \u001b[0mgamma\u001b[0m\u001b[0;34m,\u001b[0m \u001b[0mp_h\u001b[0m\u001b[0;34m)\u001b[0m\u001b[0;34m\u001b[0m\u001b[0;34m\u001b[0m\u001b[0m\n\u001b[0;32m----> 8\u001b[0;31m \u001b[0mV\u001b[0m\u001b[0;34m,\u001b[0m \u001b[0mQ\u001b[0m \u001b[0;34m=\u001b[0m \u001b[0mprob2\u001b[0m\u001b[0;34m.\u001b[0m\u001b[0mv_iteration\u001b[0m\u001b[0;34m(\u001b[0m\u001b[0mthresh\u001b[0m\u001b[0;34m=\u001b[0m\u001b[0;36m0.01\u001b[0m\u001b[0;34m)\u001b[0m\u001b[0;34m\u001b[0m\u001b[0;34m\u001b[0m\u001b[0m\n\u001b[0m\u001b[1;32m      9\u001b[0m \u001b[0mPi_star\u001b[0m \u001b[0;34m=\u001b[0m \u001b[0mprob2\u001b[0m\u001b[0;34m.\u001b[0m\u001b[0ma_star\u001b[0m\u001b[0;34m(\u001b[0m\u001b[0;34m)\u001b[0m\u001b[0;34m\u001b[0m\u001b[0;34m\u001b[0m\u001b[0m\n\u001b[1;32m     10\u001b[0m \u001b[0;34m\u001b[0m\u001b[0m\n",
      "\u001b[0;32m<ipython-input-29-6dea0432e8c5>\u001b[0m in \u001b[0;36mv_iteration\u001b[0;34m(self, thresh)\u001b[0m\n\u001b[1;32m     48\u001b[0m                         \u001b[0;32mfor\u001b[0m \u001b[0mr\u001b[0m\u001b[0;34m,\u001b[0m \u001b[0mp_r\u001b[0m \u001b[0;32min\u001b[0m \u001b[0mzip\u001b[0m\u001b[0;34m(\u001b[0m\u001b[0mdynamic_r\u001b[0m\u001b[0;34m[\u001b[0m\u001b[0;36m0\u001b[0m\u001b[0;34m]\u001b[0m\u001b[0;34m,\u001b[0m \u001b[0mdynamic_r\u001b[0m\u001b[0;34m[\u001b[0m\u001b[0;36m1\u001b[0m\u001b[0;34m]\u001b[0m\u001b[0;34m)\u001b[0m\u001b[0;34m:\u001b[0m\u001b[0;34m\u001b[0m\u001b[0;34m\u001b[0m\u001b[0m\n\u001b[1;32m     49\u001b[0m \u001b[0;31m#                             print(f\"{r =: }, {p_r =: }\")\u001b[0m\u001b[0;34m\u001b[0m\u001b[0;34m\u001b[0m\u001b[0;34m\u001b[0m\u001b[0m\n\u001b[0;32m---> 50\u001b[0;31m                             \u001b[0mq\u001b[0m \u001b[0;34m=\u001b[0m \u001b[0mp_s_p\u001b[0m \u001b[0;34m*\u001b[0m \u001b[0mp_r\u001b[0m \u001b[0;34m*\u001b[0m \u001b[0;34m(\u001b[0m\u001b[0mr\u001b[0m \u001b[0;34m+\u001b[0m \u001b[0mself\u001b[0m\u001b[0;34m.\u001b[0m\u001b[0mgamma\u001b[0m \u001b[0;34m*\u001b[0m \u001b[0mself\u001b[0m\u001b[0;34m.\u001b[0m\u001b[0mV\u001b[0m\u001b[0;34m[\u001b[0m\u001b[0ms_p\u001b[0m\u001b[0;34m]\u001b[0m\u001b[0;34m)\u001b[0m\u001b[0;34m\u001b[0m\u001b[0;34m\u001b[0m\u001b[0m\n\u001b[0m\u001b[1;32m     51\u001b[0m                             \u001b[0mq_as\u001b[0m \u001b[0;34m+=\u001b[0m \u001b[0mq\u001b[0m\u001b[0;34m\u001b[0m\u001b[0;34m\u001b[0m\u001b[0m\n\u001b[1;32m     52\u001b[0m                             \u001b[0mv_s\u001b[0m \u001b[0;34m+=\u001b[0m \u001b[0mp_a\u001b[0m \u001b[0;34m*\u001b[0m \u001b[0mq_as\u001b[0m\u001b[0;34m\u001b[0m\u001b[0;34m\u001b[0m\u001b[0m\n",
      "\u001b[0;31mIndexError\u001b[0m: only integers, slices (`:`), ellipsis (`...`), numpy.newaxis (`None`) and integer or boolean arrays are valid indices"
     ]
    }
   ],
   "source": [
    "S = np.array(range(101), dtype=float)\n",
    "A = np.array(range(101), dtype=float)\n",
    "gamma = 1\n",
    "p_h = 0.4\n",
    "\n",
    "\n",
    "prob2 = Gambler(S, A, gamma, p_h)\n",
    "V, Q = prob2.v_iteration(thresh=0.01)\n",
    "Pi_star = prob2.a_star()\n",
    "\n",
    "print_1d(V, \"V*\")\n",
    "print_1d(Pi_star, \"\\u03C0*\")"
   ]
  },
  {
   "cell_type": "code",
   "execution_count": 8,
   "metadata": {},
   "outputs": [
    {
     "ename": "AssertionError",
     "evalue": "",
     "output_type": "error",
     "traceback": [
      "\u001b[0;31m---------------------------------------------------------------------------\u001b[0m",
      "\u001b[0;31mAssertionError\u001b[0m                            Traceback (most recent call last)",
      "\u001b[0;32m<ipython-input-8-a871fdc9ebee>\u001b[0m in \u001b[0;36m<module>\u001b[0;34m\u001b[0m\n\u001b[0;32m----> 1\u001b[0;31m \u001b[0;32massert\u001b[0m \u001b[0;32mFalse\u001b[0m\u001b[0;34m\u001b[0m\u001b[0;34m\u001b[0m\u001b[0m\n\u001b[0m",
      "\u001b[0;31mAssertionError\u001b[0m: "
     ]
    }
   ],
   "source": [
    "assert False"
   ]
  },
  {
   "cell_type": "markdown",
   "metadata": {},
   "source": [
    "### II.2\n",
    "For all three scenarios:\n",
    "1. Plot the change in the value function over successive sweeps of value iteration w.r.t capital (state).\n",
    "2. Plot the final policy w.r.t capital (state). \n",
    "\n"
   ]
  },
  {
   "cell_type": "code",
   "execution_count": null,
   "metadata": {},
   "outputs": [],
   "source": [
    "# Your code here"
   ]
  },
  {
   "cell_type": "markdown",
   "metadata": {},
   "source": [
    "### II.3\n",
    "Answer the following questions:\n",
    "1. What action does your optimal policy suggest for capital of 50? What about for capital of 51?\n",
    "> Answer:\n",
    "\n",
    "2. Why do you think your optimal policy is a good policy? Explain.\n",
    "> Answer:\n",
    "    \n"
   ]
  },
  {
   "cell_type": "markdown",
   "metadata": {},
   "source": [
    "## Part III (extra credit)\n",
    "Test the algorithm by decreasing $\\theta$ the threshold for accuracy of value function estimation. What happens when $\\theta \\rightarrow 0$? You can add any helpful code/graphs if you have."
   ]
  },
  {
   "cell_type": "markdown",
   "metadata": {},
   "source": [
    "> Answer"
   ]
  }
 ],
 "metadata": {
  "kernelspec": {
   "display_name": "Python 3",
   "language": "python",
   "name": "python3"
  },
  "language_info": {
   "codemirror_mode": {
    "name": "ipython",
    "version": 3
   },
   "file_extension": ".py",
   "mimetype": "text/x-python",
   "name": "python",
   "nbconvert_exporter": "python",
   "pygments_lexer": "ipython3",
   "version": "3.8.10"
  }
 },
 "nbformat": 4,
 "nbformat_minor": 4
}
