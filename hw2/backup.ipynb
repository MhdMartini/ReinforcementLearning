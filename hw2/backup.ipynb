{
 "cells": [
  {
   "cell_type": "code",
   "execution_count": 3,
   "id": "talented-berlin",
   "metadata": {},
   "outputs": [],
   "source": [
    "# You are allowed to use the following modules\n",
    "import numpy as np\n",
    "import matplotlib.pyplot as plt"
   ]
  },
  {
   "cell_type": "code",
   "execution_count": 4,
   "id": "backed-outdoors",
   "metadata": {},
   "outputs": [],
   "source": [
    "def transition(s, a):\n",
    "    \"\"\"s\"\"\"\n",
    "    if s in (S[0], S[9]):\n",
    "        return s\n",
    "    return min(max(s + a, S[0]), S[9])"
   ]
  },
  {
   "cell_type": "code",
   "execution_count": 5,
   "id": "arbitrary-expert",
   "metadata": {},
   "outputs": [],
   "source": [
    "def reward(s, a):\n",
    "    \"\"\"reward function\"\"\"\n",
    "    if s == S[8] and a == A[1]:\n",
    "        return 5\n",
    "    if s == S[1] and a == A[0]:\n",
    "        return 1\n",
    "    return 0"
   ]
  },
  {
   "cell_type": "code",
   "execution_count": 8,
   "id": "double-leather",
   "metadata": {},
   "outputs": [],
   "source": [
    "def q(a, s):\n",
    "    \"\"\"update the value of action a at state s by one iteration\"\"\"\n",
    "    return reward(s, A[a]) + gamma * V[transition(s, A[a])]\n",
    "\n",
    "def v_iteration(thresh=0.01):\n",
    "    \"\"\"value iteration algorithm\"\"\"\n",
    "    while True:\n",
    "        delta = 0\n",
    "        for s in range(num_states):\n",
    "            v_s = 0\n",
    "            for a, prob in enumerate(Pi):\n",
    "                q_as = q(a, s)\n",
    "                v_s += prob * q_as\n",
    "                Q[a, s] = q_as\n",
    "            old = V[s]\n",
    "            V[s] = v_s\n",
    "            delta = max(delta, V[s] - old)\n",
    "        if delta < thresh:\n",
    "            break\n",
    "\n",
    "def a_star():\n",
    "    Pi_star = np.zeros(num_states, dtype=int)  # to hold optimal actions\n",
    "    \"\"\"get optimal policy\"\"\"\n",
    "    for s in range(1, num_states - 1):\n",
    "        Pi_star[s] = A[np.argmax(Q[:, s])]\n",
    "    return Pi_star\n",
    "\n",
    "def softmax(array):\n",
    "    exp = np.exp(array - np.max(array))  # shift to avoid overflow\n",
    "    return exp / np.sum(exp)\n",
    "\n",
    "def print_1d(array, name):\n",
    "    print(\"{} = (\".format(name))\n",
    "    [print(round(n,2), end=\",\\t\") for n in array]\n",
    "    print(\"\\n)\\n\")\n"
   ]
  },
  {
   "cell_type": "code",
   "execution_count": 10,
   "id": "aquatic-surprise",
   "metadata": {},
   "outputs": [
    {
     "name": "stdout",
     "output_type": "stream",
     "text": [
      "V* = (\n",
      "0.0,\t0.77,\t0.6,\t0.57,\t0.68,\t0.94,\t1.42,\t2.21,\t3.49,\t0.0,\t\n",
      ")\n",
      "\n",
      "π* = (\n",
      "0,\t-1,\t-1,\t1,\t1,\t1,\t1,\t1,\t1,\t0,\t\n",
      ")\n",
      "\n"
     ]
    }
   ],
   "source": [
    "S = np.array(range(10))\n",
    "A = np.array((-1, 1), dtype=int)\n",
    "num_states = S.shape[0]\n",
    "num_actions = A.shape[0]\n",
    "Pi = softmax(np.ones(num_actions))\n",
    "gamma = 0.9\n",
    "\n",
    "V = np.zeros(num_states)  # 9 states\n",
    "Q = np.zeros((num_actions, num_states))  # 9 states and two actions per state\n",
    "\n",
    "v_iteration(thresh=0.01)\n",
    "Pi_star = a_star()\n",
    "\n",
    "print_1d(V, \"V*\")\n",
    "print_1d(Pi_star, \"\\u03C0*\")"
   ]
  },
  {
   "cell_type": "code",
   "execution_count": null,
   "id": "human-earth",
   "metadata": {},
   "outputs": [],
   "source": []
  }
 ],
 "metadata": {
  "kernelspec": {
   "display_name": "Python 3",
   "language": "python",
   "name": "python3"
  },
  "language_info": {
   "codemirror_mode": {
    "name": "ipython",
    "version": 3
   },
   "file_extension": ".py",
   "mimetype": "text/x-python",
   "name": "python",
   "nbconvert_exporter": "python",
   "pygments_lexer": "ipython3",
   "version": "3.8.10"
  }
 },
 "nbformat": 4,
 "nbformat_minor": 5
}
