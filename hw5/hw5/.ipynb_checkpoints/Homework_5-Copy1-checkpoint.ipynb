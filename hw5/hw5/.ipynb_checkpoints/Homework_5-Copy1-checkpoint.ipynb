{
 "cells": [
  {
   "cell_type": "markdown",
   "metadata": {},
   "source": [
    "<center>\n",
    "    COMP4600/5300 - Reinforcement Learning\n",
    "\n",
    "# Homework 5 - Temporal Difference\n",
    "\n",
    "### Due: Wednesday, October 14th 11:59 pm\n",
    "    \n",
    "</center>"
   ]
  },
  {
   "cell_type": "markdown",
   "metadata": {},
   "source": [
    "Student Name: Mohamed Martini"
   ]
  },
  {
   "cell_type": "markdown",
   "metadata": {},
   "source": [
    "The purpose of this project is to study different properties of Temporal Difference methods.  "
   ]
  },
  {
   "cell_type": "code",
   "execution_count": 1,
   "metadata": {
    "scrolled": false
   },
   "outputs": [],
   "source": [
    "# You are allowed to use the following modules\n",
    "import numpy as np\n",
    "import matplotlib.pyplot as plt\n"
   ]
  },
  {
   "attachments": {
    "pic1.png": {
     "image/png": "[encoded data removed]"
    }
   },
   "cell_type": "markdown",
   "metadata": {},
   "source": [
    "## Part I\n",
    "The following Windy Gridworld includes a crosswind running upward through the middle of the grid. The strength of wind is shown under each column that you should use for shifting. The goal is to reach the goal state G from the start state S. This is an undiscounted episodic task, with constant rewards of -1 until the goal state is reached.\n",
    "![pic1.png](attachment:pic1.png)\n"
   ]
  },
  {
   "cell_type": "markdown",
   "metadata": {},
   "source": [
    "## Part I\n",
    "Implement SARSA (on-policy TD control) using $\\varepsilon$–greedy policy with parameters $\\varepsilon=0.1, \\alpha=0.5$, and $Q_0 (s,a)=0$ for all $s,a$. Apply your implementation to the windy gridworld in the following scenarios:\n",
    "\n",
    "\n",
    "**(a)** In this scenario, the agent’s action set includes four moves (i.e. Up, Down, Right, Left). Plot the number of episodes vs. time steps (similar to graph in page 130). Then calculate the average episode length. \n",
    "\n",
    "**(b)** In this scenario, the agent has access to King’s moves (eight actions). You need to define a new action set and re-run the experiment in previous scenario. Plot the number of episodes vs. time steps. Then calculate the average episode length.\n",
    "\n",
    "**(c)** In this scenario, you need to add a ninth action that causes no movement at all other than that caused by the wind. Plot the number of episodes vs. time steps. Then calculate the average episode length.\n",
    "\n",
    "**(d)** In this scenario, the agent has access to King’s moves (eight actions). Assume that the effect of the wind, if there is any, is stochastic, sometimes varying by 1 from the mean values given for each column. That is, a third of the time you move exactly according to these values, as in the previous part, but also a third of the time you move one cell above that, and another third of the time you move one cell below that. For example, if you are one cell above the goal, one-third of the time you move two cells above the goal, and one-third of the time you move to the goal. Plot the number of episodes vs. time steps. Then calculate the average episode length.\n",
    "\n",
    "**Note:** all four plots should be shown in one figure for comparison.\n",
    "\n"
   ]
  },
  {
   "cell_type": "code",
   "execution_count": 2,
   "metadata": {
    "scrolled": true
   },
   "outputs": [],
   "source": [
    "def plot_all(data, eps_lens, title, label):\n",
    "    plt.figure(figsize=(12, 12))\n",
    "    plt.title(title)\n",
    "    for i, plot in enumerate(data, start=1):\n",
    "        plt.plot(plot, label=label.format(i, np.mean(eps_lens[i-1])))\n",
    "    plt.legend()\n",
    "    plt.show()\n",
    "    "
   ]
  },
  {
   "cell_type": "code",
   "execution_count": 3,
   "metadata": {
    "scrolled": false
   },
   "outputs": [],
   "source": [
    "def my_argmax(array):\n",
    "    \"\"\"\n",
    "    return argmax and break ties\n",
    "    \"\"\"\n",
    "    max_ = np.nanmax(array)\n",
    "    indx = [i for i in range(len(array)) if array[i] == max_]\n",
    "    return np.random.choice(indx)\n"
   ]
  },
  {
   "cell_type": "code",
   "execution_count": 4,
   "metadata": {
    "scrolled": true
   },
   "outputs": [],
   "source": [
    "def wind_det(s):\n",
    "    \"\"\"\n",
    "    return deterministic wind vector\n",
    "    \"\"\"\n",
    "    wind = np.zeros(2, dtype=np.int)\n",
    "    col = s[1]\n",
    "    if 2 < col < 9:\n",
    "        wind[0] -= 1\n",
    "        if col in (6, 7):\n",
    "            wind[0] -= 1\n",
    "    return wind\n",
    "\n",
    "\n",
    "def wind_stoch(s):\n",
    "    \"\"\"\n",
    "    return stochastic wind vector\n",
    "    \"\"\"\n",
    "    stoch = np.random.choice((-1, 0, 1))\n",
    "    stoch = np.array([stoch, 0])\n",
    "    wind = wind_det(s + stoch)\n",
    "    return wind\n"
   ]
  },
  {
   "cell_type": "code",
   "execution_count": 5,
   "metadata": {
    "scrolled": false
   },
   "outputs": [],
   "source": [
    "def mask_actions_4(Q):\n",
    "    \"\"\"\n",
    "    put nan in indeces of unallowed actions. this way my_argmax does not consider them \n",
    "    \"\"\"\n",
    "    for i in range(ROWS):\n",
    "        for j in range(COLS):\n",
    "            if i == 0:\n",
    "                # no up\n",
    "                Q[1, i, j] = np.nan\n",
    "            elif i == S.shape[0] - 1:\n",
    "                # no down\n",
    "                Q[3, i, j] = np.nan\n",
    "            if j == 0:\n",
    "                # no left\n",
    "                Q[2, i, j] = np.nan\n",
    "            elif j == S.shape[1] - 1:\n",
    "                # no right\n",
    "                Q[0, i, j] = np.nan\n",
    "    return Q\n",
    "\n",
    "\n",
    "def mask_actions_8_9(Q):\n",
    "    \"\"\"\n",
    "    put nan in indeces of unallowed actions. this way my_argmax does not consider them \n",
    "    \"\"\"\n",
    "    for i in range(ROWS):\n",
    "        for j in range(COLS):\n",
    "            if i == 0:\n",
    "                # no up\n",
    "                Q[[1, 2, 3], i, j] = np.nan\n",
    "            elif i == S.shape[0] - 1:\n",
    "                # no down\n",
    "                Q[[5, 6, 7], i, j] = np.nan\n",
    "            if j == 0:\n",
    "                # no left\n",
    "                Q[[3, 4, 5], i, j] = np.nan\n",
    "            elif j == S.shape[1] - 1:\n",
    "                # no right\n",
    "                Q[[7, 0, 1], i, j] = np.nan\n",
    "    return Q\n"
   ]
  },
  {
   "cell_type": "code",
   "execution_count": 6,
   "metadata": {
    "scrolled": true
   },
   "outputs": [],
   "source": [
    "def transition(s, a, wind):\n",
    "    \"\"\"\n",
    "    transition function\n",
    "    \"\"\"\n",
    "    s_p = s + a + wind(s)\n",
    "    terminal = np.array_equal(s_p, ST)\n",
    "    reward = -1\n",
    "    s_p[0] = max(s_p[0], 0)  # stick at border\n",
    "    return reward, s_p, terminal\n",
    "\n",
    "def get_e_greedy_action(Q, s, eps=0.1):\n",
    "    \"\"\"\n",
    "    get action with e-greedy policy\n",
    "    \"\"\"\n",
    "    explore = np.random.choice((True, False), p=(eps, 1 - eps))\n",
    "    if explore == True:\n",
    "        indecis = np.where(~np.isnan(Q[:, s[0], s[1]]))[0]\n",
    "        return np.random.choice(indecis)\n",
    "    return my_argmax(Q[:, s[0], s[1]])\n"
   ]
  },
  {
   "cell_type": "code",
   "execution_count": 7,
   "metadata": {
    "scrolled": false
   },
   "outputs": [],
   "source": [
    "def sarsa(Q, A, k=180, eps=0.1, alpha=0.5, wind=wind_det):\n",
    "    \"\"\"\n",
    "    implement SARSA. \n",
    "    return a list for the number episodes finished at each time step\n",
    "    return another list for the time steps taken by each episode\n",
    "    \"\"\"\n",
    "    epi_per_t = []\n",
    "    len_episodes = np.zeros(k)\n",
    "    for episode in range(k):\n",
    "        s = np.copy(S0)\n",
    "        a = get_e_greedy_action(Q, s, eps=0.1)\n",
    "        while True:\n",
    "            len_episodes[episode] += 1\n",
    "            \n",
    "            r, s_p, terminal = transition(s, A[a], wind=wind)\n",
    "            a_p = get_e_greedy_action(Q, s_p, eps=eps)\n",
    "\n",
    "            Q[a, s[0], s[1]] = Q[a, s[0], s[1]] + \\\n",
    "                                alpha * (r + Q[a_p, s_p[0], s_p[1]] - Q[a, s[0], s[1]])\n",
    "                \n",
    "            s, a = s_p, a_p\n",
    "            \n",
    "            epi_per_t.append(episode)\n",
    "            if terminal:\n",
    "                break\n",
    "\n",
    "    return epi_per_t, len_episodes\n",
    "        "
   ]
  },
  {
   "cell_type": "code",
   "execution_count": 8,
   "metadata": {},
   "outputs": [],
   "source": [
    "ROWS = 7\n",
    "COLS = 10\n",
    "\n",
    "S = np.zeros((ROWS, COLS), dtype=np.int)\n",
    "S0 = np.array((3, 0), dtype=np.int)\n",
    "ST = np.array((3, 7), dtype=np.int)\n",
    "K = 175  # num episodes\n",
    "\n",
    "A4 = np.array(((0, 1), (-1, 0), (0, -1), (1, 0)), dtype=np.int)\n",
    "Q4 = np.zeros((4, ROWS, COLS))\n",
    "\n",
    "right, up, left, down = A4\n",
    "A8 = np.array((right, right + up, up, up + left, left, left + down, down, down + right), dtype=np.int)\n",
    "Q8 = np.zeros((8, ROWS, COLS))\n",
    "\n",
    "A9 = np.insert(A8, 8, (0, 0), axis=0)\n",
    "Q9 = np.zeros((9, ROWS, COLS))\n"
   ]
  },
  {
   "cell_type": "code",
   "execution_count": 9,
   "metadata": {
    "scrolled": false
   },
   "outputs": [],
   "source": [
    "Q4 = mask_actions_4(Q4)\n",
    "data0, ep_lens0 = sarsa(Q4, A4, k=K)\n"
   ]
  },
  {
   "cell_type": "code",
   "execution_count": 10,
   "metadata": {
    "scrolled": false
   },
   "outputs": [],
   "source": [
    "Q8 = mask_actions_8_9(Q8)\n",
    "data1, ep_lens1 = sarsa(np.copy(Q8), A8, k=K)\n"
   ]
  },
  {
   "cell_type": "code",
   "execution_count": 11,
   "metadata": {
    "scrolled": false
   },
   "outputs": [],
   "source": [
    "Q9 = mask_actions_8_9(Q9)\n",
    "data2, ep_lens2 = sarsa(Q9, A9, k=K)\n"
   ]
  },
  {
   "cell_type": "code",
   "execution_count": 12,
   "metadata": {
    "scrolled": false
   },
   "outputs": [],
   "source": [
    "data3, ep_lens3 = sarsa(np.copy(Q8), A8, k=K, wind=wind_stoch)\n"
   ]
  },
  {
   "cell_type": "code",
   "execution_count": 13,
   "metadata": {
    "scrolled": false
   },
   "outputs": [
    {
     "data": {
      "image/png": "[encoded data removed]",
      "text/plain": [
       "<Figure size 864x864 with 1 Axes>"
      ]
     },
     "metadata": {
      "needs_background": "light"
     },
     "output_type": "display_data"
    }
   ],
   "source": [
    "data = [data0, data1, data2, data3]\n",
    "ep_lens = [ep_lens0, ep_lens1, ep_lens2, ep_lens3]\n",
    "title = \"SARSA: Time steps per episode\"\n",
    "label = \"Scenario {}. Ave. steps per episode: {:.1f}\"\n",
    "\n",
    "plot_all(data, ep_lens, title, label)\n"
   ]
  },
  {
   "attachments": {
    "pic2.png": {
     "image/png": "[encoded data removed]"
    }
   },
   "cell_type": "markdown",
   "metadata": {},
   "source": [
    "## Part II\n",
    "Consider the following gridworld with four actions (up, down, right, and left). If the action takes the agent off the gird, the agent stays in the same state. In each non-terminating step, the agent receives a random reward of -12 or +10 with equal probability. The reward for reaching the goal state is +5 and the episode ends when the agent reaches the goal.\n",
    "\n",
    "Use $\\varepsilon$–greedy policy with $\\varepsilon(s) = \\frac{1}{\\sqrt{n(s)}}$ where $n(s)$ is the number of times state $s$ has been visited, assuring infinite exploration in the limit which is a theoretical requirement for the convergence of both **Q-learning** and **Double Q-learning**. \n",
    "![pic2.png](attachment:pic2.png)\n",
    "\n",
    "a. Implement **Q-learning** and **Double Q-learning** and apply them to this problem for 10,000 experiments using the learning rate $\\alpha=\\frac{1}{n(s,a)}$.\n",
    "\n",
    "b. Plot the average reward per step vs. number of time steps averaged over 10,000 experiments. The length of an episode following the optimal policy is five actions, so the optimal average reward per step is +0.2. Plot this true value in your figure and see how close your algorithm gets to the true value.\n",
    "\n",
    "c. Plot the maximal action value in the starting state $S$ (i.e. $max_a Q(s,a)$) averaged over 10,000 experiments. The optimal value of maximally valued action in the starting state is $5\\gamma^4 - \\sum_{k=0}^3 \\approx 0.36$. Plot this true value in your figure and see how close your algorithm gets to the true value.\n",
    "\n",
    "d. Repeat the experiments with $\\alpha = \\frac{1}{n(s,a)^{0.8}}$ and redo steps b and c.\n",
    "\n",
    "\n",
    "**Note:** You should have four figures (average rewards and maximal action values for different learning rates, $2 \\times 2$). \n"
   ]
  },
  {
   "cell_type": "code",
   "execution_count": 14,
   "metadata": {},
   "outputs": [],
   "source": [
    "def transition(s, a):\n",
    "    \"\"\"\n",
    "    transition function\n",
    "    \"\"\"\n",
    "    s_p = s + a\n",
    "    s_p[0] = min(max(s_p[0], 0), ROWS - 1)  # stick at border\n",
    "    s_p[1] = min(max(s_p[1], 0), COLS - 1)  # stick at border\n",
    "    terminal = np.array_equal(s_p, ST)\n",
    "    reward = 5 if terminal else np.random.choice((-12, 10))\n",
    "    return reward, s_p, terminal\n"
   ]
  },
  {
   "cell_type": "code",
   "execution_count": 15,
   "metadata": {
    "scrolled": false
   },
   "outputs": [],
   "source": [
    "def qlearning(Q, A, k=1000, alpha_p=1, gamma=0.95):\n",
    "    Q = np.copy(Q)\n",
    "    r_per_t = []\n",
    "    steps_count = {}\n",
    "    r_per_e = np.zeros(k)\n",
    "    for episode in range(k):\n",
    "        s = np.copy(S0)\n",
    "\n",
    "        a_count = np.zeros_like(Q)  # count number of times an action was taken\n",
    "        s_count = np.zeros_like(S)\n",
    "\n",
    "        r_e = 0\n",
    "        for step in range(10_000):\n",
    "            try:\n",
    "                steps_count[step] += 1\n",
    "            except KeyError:\n",
    "                steps_count[step] = 1\n",
    "\n",
    "            s_count[s[0], s[1]] += 1\n",
    "\n",
    "            eps = 1 / np.sqrt(s_count[s[0], s[1]])\n",
    "            a = get_e_greedy_action(Q, s, eps=eps)\n",
    "\n",
    "            a_count[a, s[0], s[1]] += 1\n",
    "\n",
    "            r, s_p, terminal = transition(s, A[a])\n",
    "            r_e += r\n",
    "\n",
    "            alpha = 1 / (a_count[a, s[0], s[1]])**alpha_p\n",
    "            error = r + gamma * (np.max(Q[:, s_p[0], s_p[1]])) - Q[a, s[0], s[1]]\n",
    "            Q[a, s[0], s[1]] += alpha * error \n",
    "\n",
    "            try:\n",
    "                old = r_per_t[step]\n",
    "            except IndexError:\n",
    "                old = 0\n",
    "                r_per_t.append(old)\n",
    "            r_per_t[step] = old + (r - old) / steps_count[step] \n",
    "\n",
    "            if terminal == 1:\n",
    "                s_p = S0\n",
    "            s = s_p\n",
    "        r_per_e[episode] = r_e\n",
    "    return Q, r_per_t, np.argmax(Q, axis=0), r_per_e\n"
   ]
  },
  {
   "cell_type": "code",
   "execution_count": 16,
   "metadata": {},
   "outputs": [],
   "source": [
    "def double_qlearning(Q, A, k, alpha_p=1):\n",
    "    Q1 = np.copy(Q)\n",
    "    Q2 = np.copy(Q)\n",
    "    Q = np.array((Q1, Q2))\n",
    "    r_per_t = []\n",
    "    steps_count = {}\n",
    "    r_per_e = np.zeros(k)\n",
    "    for episode in range(k):\n",
    "        a_count = np.zeros_like(Q1)  # count number of times an action was taken\n",
    "        s_count = np.zeros_like(S)\n",
    "        s = np.copy(S0)\n",
    "\n",
    "        step = 0\n",
    "        r_e = 0\n",
    "        while True:\n",
    "            try:\n",
    "                steps_count[step] += 1\n",
    "            except KeyError:\n",
    "                steps_count[step] = 1\n",
    "\n",
    "            s_count[s[0], s[1]] += 1\n",
    "\n",
    "            eps = 1 / np.sqrt(s_count[s[0], s[1]])\n",
    "            a = get_e_greedy_action(Q1 + Q2, s, eps=eps)\n",
    "            a_count[a, s[0], s[1]] += 1\n",
    "\n",
    "            r, s_p, terminal = transition(s, A[a])\n",
    "            r_e += r\n",
    "\n",
    "            alpha = 1 / (a_count[a, s[0], s[1]])**alpha_p\n",
    "            np.random.shuffle(Q)\n",
    "            error = r + Q[1, my_argmax(Q[0, :, s_p[0], s_p[1]]), s_p[0], s_p[1]] - Q[0, a, s[0], s[1]]\n",
    "            Q[0, a, s[0], s[1]] += alpha * error \n",
    "                \n",
    "            s = s_p\n",
    "            \n",
    "            try:\n",
    "                old = r_per_t[step]\n",
    "            except IndexError:\n",
    "                old = 0\n",
    "                r_per_t.append(old)\n",
    "            r_per_t[step] = old + (r - old) / steps_count[step]\n",
    "\n",
    "            step += 1\n",
    "            if terminal:\n",
    "                break\n",
    "        r_per_e[episode] = r_e\n",
    "\n",
    "    return (Q[0] + Q[1])/2, r_per_t, np.argmax((Q[0] + Q[1])/2, axis=0), r_per_e\n"
   ]
  },
  {
   "cell_type": "code",
   "execution_count": null,
   "metadata": {},
   "outputs": [],
   "source": [
    "ROWS = 3\n",
    "COLS = 3\n",
    "\n",
    "S = np.zeros((ROWS, COLS), dtype=np.int)\n",
    "S0 = np.array((2, 0), dtype=np.int)\n",
    "ST = np.array((0, 2), dtype=np.int)\n",
    "K = 10_000  # num episodes\n",
    "\n",
    "A = np.array(((0, 1), (-1, 0), (0, -1), (1, 0)), dtype=np.int)\n",
    "Q = np.zeros((4, ROWS, COLS))\n",
    "Q_0, ave_reward0, q, r_per_e = qlearning(Q=np.copy(Q), A=A, k=1000, alpha_p=1)\n",
    "Q_1, ave_reward1, q, r_per_e = double_qlearning(Q=np.copy(Q), A=A, k=K, alpha_p=1)\n",
    "Q_2, ave_reward2, q, r_per_e = qlearning(Q=np.copy(Q), A=A, k=1000, alpha_p=0.8)\n",
    "Q_3, ave_reward3, q, r_per_e = double_qlearning(Q=np.copy(Q), A=A, k=K, alpha_p=0.8)\n"
   ]
  },
  {
   "cell_type": "code",
   "execution_count": null,
   "metadata": {},
   "outputs": [],
   "source": [
    "fig, (up, down) = plt.subplots(2,2, figsize=(15,15))\n",
    "\n",
    "title = \"Average reward per time step.\\n{} Q Learning. Alpha power = {}\"\n",
    "        \n",
    "up[0].plot(ave_reward0)\n",
    "up[0].set_title(title.format(\"Single\", 1), fontsize=14)\n",
    "up[0].plot(0, np.max(Q_0[:, S0[0], S0[1]]) / np.sum(Q_0[:, S0[0], S0[1]]), \n",
    "           'o--', linewidth=2, markersize=12, label=\"optimal value in start position (normalized)\")\n",
    "\n",
    "up[1].plot(ave_reward1)\n",
    "up[1].set_title(title.format(\"Double\", 1), fontsize=14)\n",
    "up[1].plot(0, np.max(Q_1[:, S0[0], S0[1]]) / np.sum(Q_1[:, S0[0], S0[1]]), \n",
    "           'o--', linewidth=2, markersize=12, label=\"optimal value in start position (normalized)\")\n",
    "\n",
    "down[0].plot(ave_reward2)\n",
    "down[0].set_title(title.format(\"Single\", 0.8), fontsize=14)\n",
    "down[0].plot(0, np.max(Q_2[:, S0[0], S0[1]]) / np.sum(Q_2[:, S0[0], S0[1]]), \n",
    "             'o--', linewidth=2, markersize=12, label=\"optimal value in start position (normalized)\")\n",
    "\n",
    "down[1].plot(ave_reward3)\n",
    "down[1].set_title(title.format(\"Double\", 0.8), fontsize=14)\n",
    "down[1].plot(0, np.max(Q_3[:, S0[0], S0[1]]) / np.sum(Q_3[:, S0[0], S0[1]]), \n",
    "             'o--', linewidth=2, markersize=12, label=\"optimal value in start position (normalized)\")\n",
    "\n",
    "for u, d in zip(up, down):\n",
    "    for ax in (u, d):\n",
    "        ax.set_xlabel(\"Time Step\")\n",
    "        ax.set_ylabel(\"Average Reward\")\n",
    "        ax.axhline(y=0.2, color='r', linestyle='-', label=\"Optimal average reward per step\")\n",
    "        ax.plot(0, 0.36, 'go--', linewidth=2, markersize=12, label=\"calculated optimal value in start position\")\n",
    "        ax.legend()\n",
    "\n",
    "plt.tight_layout()\n",
    "plt.show()\n"
   ]
  }
 ],
 "metadata": {
  "kernelspec": {
   "display_name": "Python 3",
   "language": "python",
   "name": "python3"
  },
  "language_info": {
   "codemirror_mode": {
    "name": "ipython",
    "version": 3
   },
   "file_extension": ".py",
   "mimetype": "text/x-python",
   "name": "python",
   "nbconvert_exporter": "python",
   "pygments_lexer": "ipython3",
   "version": "3.8.10"
  }
 },
 "nbformat": 4,
 "nbformat_minor": 2
}
