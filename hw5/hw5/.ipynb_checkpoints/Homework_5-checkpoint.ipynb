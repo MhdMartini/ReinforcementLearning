{
 "cells": [
  {
   "cell_type": "markdown",
   "metadata": {},
   "source": [
    "<center>\n",
    "    COMP4600/5300 - Reinforcement Learning\n",
    "\n",
    "# Homework 5 - Temporal Difference\n",
    "\n",
    "### Due: Wednesday, October 14th 11:59 pm\n",
    "    \n",
    "</center>"
   ]
  },
  {
   "cell_type": "markdown",
   "metadata": {},
   "source": [
    "Student Name: ______________________ "
   ]
  },
  {
   "cell_type": "markdown",
   "metadata": {},
   "source": [
    "The purpose of this project is to study different properties of Temporal Difference methods.  "
   ]
  },
  {
   "cell_type": "code",
   "execution_count": 1,
   "metadata": {},
   "outputs": [],
   "source": [
    "# You are allowed to use the following modules\n",
    "import numpy as np\n",
    "import matplotlib.pyplot as plt\n"
   ]
  },
  {
   "attachments": {
    "pic1.png": {
     "image/png": "[encoded data removed]"
    }
   },
   "cell_type": "markdown",
   "metadata": {},
   "source": [
    "## Part I\n",
    "The following Windy Gridworld includes a crosswind running upward through the middle of the grid. The strength of wind is shown under each column that you should use for shifting. The goal is to reach the goal state G from the start state S. This is an undiscounted episodic task, with constant rewards of -1 until the goal state is reached.\n",
    "![pic1.png](attachment:pic1.png)\n"
   ]
  },
  {
   "cell_type": "markdown",
   "metadata": {},
   "source": [
    "## Part I\n",
    "Implement SARSA (on-policy TD control) using $\\varepsilon$–greedy policy with parameters $\\varepsilon=0.1, \\alpha=0.5$, and $Q_0 (s,a)=0$ for all $s,a$. Apply your implementation to the windy gridworld in the following scenarios:\n",
    "\n",
    "\n",
    "**(a)** In this scenario, the agent’s action set includes four moves (i.e. Up, Down, Right, Left). Plot the number of episodes vs. time steps (similar to graph in page 130). Then calculate the average episode length. \n",
    "\n",
    "**(b)** In this scenario, the agent has access to King’s moves (eight actions). You need to define a new action set and re-run the experiment in previous scenario. Plot the number of episodes vs. time steps. Then calculate the average episode length.\n",
    "\n",
    "**(c)** In this scenario, you need to add a ninth action that causes no movement at all other than that caused by the wind. Plot the number of episodes vs. time steps. Then calculate the average episode length.\n",
    "\n",
    "**(d)** In this scenario, the agent has access to King’s moves (eight actions). Assume that the effect of the wind, if there is any, is stochastic, sometimes varying by 1 from the mean values given for each column. That is, a third of the time you move exactly according to these values, as in the previous part, but also a third of the time you move one cell above that, and another third of the time you move one cell below that. For example, if you are one cell above the goal, one-third of the time you move two cells above the goal, and one-third of the time you move to the goal. Plot the number of episodes vs. time steps. Then calculate the average episode length.\n",
    "\n",
    "**Note:** all four plots should be shown in one figure for comparison.\n",
    "\n"
   ]
  },
  {
   "cell_type": "code",
   "execution_count": 2,
   "metadata": {},
   "outputs": [],
   "source": [
    "def my_argmax(array):\n",
    "    \"\"\"\n",
    "    return argmax and break ties\n",
    "    \"\"\"\n",
    "    max_ = np.nanmax(array)\n",
    "    indx = [i for i in range(len(array)) if array[i] == max_]\n",
    "    return np.random.choice(indx)"
   ]
  },
  {
   "cell_type": "code",
   "execution_count": 22,
   "metadata": {},
   "outputs": [],
   "source": [
    "def wind_det(s):\n",
    "    \"\"\"\n",
    "    return deterministic wind vector\n",
    "    \"\"\"\n",
    "    wind = np.zeros(2, dtype=np.int)\n",
    "    col = s[1]\n",
    "    if 2 < col < 9:\n",
    "        wind[0] -= 1\n",
    "        if col in (6, 7):\n",
    "            wind[0] -= 1\n",
    "    return wind\n",
    "\n",
    "\n",
    "def mask_actions_4(Q):\n",
    "    \"\"\"\n",
    "    put nan in indeces of unallowed actions. this way my_argmax does not consider them \n",
    "    \"\"\"\n",
    "    for i in range(ROWS):\n",
    "        for j in range(COLS):\n",
    "            if i == 0:\n",
    "                # no up\n",
    "                Q[1, i, j] = np.nan\n",
    "            elif i == S.shape[0] - 1:\n",
    "                # no down\n",
    "                Q[3, i, j] = np.nan\n",
    "            if j == 0:\n",
    "                # no left\n",
    "                Q[2, i, j] = np.nan\n",
    "            elif j == S.shape[1] - 1:\n",
    "                # no right\n",
    "                Q[0, i, j] = np.nan\n",
    "    return Q\n",
    "\n",
    "\n",
    "def mask_actions_8(Q):\n",
    "    \"\"\"\n",
    "    put nan in indeces of unallowed actions. this way my_argmax does not consider them \n",
    "    \"\"\"\n",
    "    for i in range(ROWS):\n",
    "        for j in range(COLS):\n",
    "            if i == 0:\n",
    "                # no up\n",
    "                Q[[1, 2, 3], i, j] = np.nan\n",
    "            elif i == S.shape[0] - 1:\n",
    "                # no down\n",
    "                Q[[5, 6, 7], i, j] = np.nan\n",
    "            if j == 0:\n",
    "                # no left\n",
    "                Q[[3, 4, 5], i, j] = np.nan\n",
    "            elif j == S.shape[1] - 1:\n",
    "                # no right\n",
    "                Q[[7, 0, 1], i, j] = np.nan\n",
    "    return Q\n",
    "\n",
    "def mask_actions_9(Q):\n",
    "    \"\"\"\n",
    "    put nan in indeces of unallowed actions. this way my_argmax does not consider them \n",
    "    \"\"\"\n",
    "    for i in range(ROWS):\n",
    "        for j in range(COLS):\n",
    "            if i == 0:\n",
    "                # no up\n",
    "                Q[[1, 2, 3], i, j] = np.nan\n",
    "            elif i == S.shape[0] - 1:\n",
    "                # no down\n",
    "                Q[[5, 6, 7], i, j] = np.nan\n",
    "            if j == 0:\n",
    "                # no left\n",
    "                Q[[3, 4, 5], i, j] = np.nan\n",
    "            elif j == S.shape[1] - 1:\n",
    "                # no right\n",
    "                Q[[7, 0, 1], i, j] = np.nan\n",
    "    return Q\n",
    "\n",
    "\n",
    "def transition(s, a):\n",
    "    \"\"\"\n",
    "    transition function\n",
    "    \"\"\"\n",
    "    s_p = s + a + wind_det(s)\n",
    "    terminal = np.all(s_p == ST)\n",
    "    reward = -1\n",
    "    s_p[0] = max(s_p[0], 0)  # stick at border\n",
    "    return reward, s_p, terminal\n",
    "\n",
    "\n",
    "def get_e_greedy_action(Q, s, eps=0.1):\n",
    "    \"\"\"\n",
    "    get action with e-greedy policy\n",
    "    \"\"\"\n",
    "    explore = np.random.choice((True, False), p=(eps, 1 - eps))\n",
    "    if explore:\n",
    "        indecis = np.where(~np.isnan(Q[:, s[0], s[1]]))[0]\n",
    "        return np.random.choice(indecis)\n",
    "    return my_argmax(Q[:, s[0], s[1]])\n"
   ]
  },
  {
   "cell_type": "code",
   "execution_count": 20,
   "metadata": {},
   "outputs": [],
   "source": [
    "# Your code here\n",
    "ROWS = 7\n",
    "COLS = 10\n",
    "\n",
    "S = np.zeros((ROWS, COLS), dtype=np.int)\n",
    "S0 = np.array((3, 0), dtype=np.int)\n",
    "ST = np.array((3, 7), dtype=np.int)\n",
    "\n",
    "\n",
    "def sarsa(Q, A, k=180, eps=0.1):\n",
    "    epi_per_t = []\n",
    "    len_episodes = np.zeros(k)\n",
    "    for episode in range(k):\n",
    "        a_count = np.zeros_like(Q)  # count number of times an action was taken\n",
    "        s = S0\n",
    "        a = get_e_greedy_action(Q, s, eps=0.1)\n",
    "        while True:\n",
    "            len_episodes[episode] += 1\n",
    "            \n",
    "            r, s_p, terminal = transition(s, A[a])\n",
    "            a_p = get_e_greedy_action(Q, s_p, eps=eps)\n",
    "\n",
    "            a_count[a, s[0], s[1]] += 1\n",
    "            alpha = 1 / a_count[a, s[0], s[1]]\n",
    "            Q[a, s[0], s[1]] = Q[a, s[0], s[1]] + \\\n",
    "                                alpha * (r + Q[a_p, s_p[0], s_p[1]] - Q[a, s[0], s[1]])\n",
    "                \n",
    "            s, a = s_p, a_p\n",
    "            \n",
    "            epi_per_t.append(episode)\n",
    "            if terminal:\n",
    "                break\n",
    "\n",
    "    return epi_per_t, len_episodes\n",
    "        "
   ]
  },
  {
   "cell_type": "code",
   "execution_count": 15,
   "metadata": {},
   "outputs": [],
   "source": [
    "A4 = np.array(((0, 1), (-1, 0), (0, -1), (1, 0)), dtype=np.int)\n",
    "Q4 = np.zeros((4, ROWS, COLS))\n",
    "Q4 = mask_actions_4(Q4)\n",
    "\n",
    "data01, ep_lens01 = sarsa(Q4, A4, k=170, eps=0.1)\n",
    "data05, ep_lens05 = sarsa(Q4, A4, k=170, eps=0.5)"
   ]
  },
  {
   "cell_type": "code",
   "execution_count": 24,
   "metadata": {},
   "outputs": [],
   "source": [
    "right, up, left, down = A4\n",
    "A8 = np.array((right, right + up, up, up + left, left, left + down, down, down + right), dtype=np.int)\n",
    "Q8 = np.zeros((8, ROWS, COLS))\n",
    "Q8 = mask_actions_8(Q8)\n",
    "data11, ep_lens11 = sarsa(Q8, A8, k=170, eps=0.1)\n",
    "data15, ep_lens15 = sarsa(Q8, A8, k=170, eps=0.5)"
   ]
  },
  {
   "cell_type": "code",
   "execution_count": 28,
   "metadata": {},
   "outputs": [],
   "source": [
    "A9 = np.insert(A8, 8, (0, 0), axis=0)"
   ]
  },
  {
   "cell_type": "code",
   "execution_count": 26,
   "metadata": {},
   "outputs": [
    {
     "data": {
      "text/plain": [
       "[<matplotlib.lines.Line2D at 0x7f09fd915a90>]"
      ]
     },
     "execution_count": 26,
     "metadata": {},
     "output_type": "execute_result"
    },
    {
     "data": {
      "image/png": "[encoded data removed]",
      "text/plain": [
       "<Figure size 432x288 with 1 Axes>"
      ]
     },
     "metadata": {
      "needs_background": "light"
     },
     "output_type": "display_data"
    }
   ],
   "source": [
    "plt.plot(data15)"
   ]
  },
  {
   "cell_type": "code",
   "execution_count": 27,
   "metadata": {},
   "outputs": [],
   "source": [
    "# def plot(ax, data, epi_len, eps, title):\n",
    "#     \"\"\"\n",
    "#     plot for both epsilons\n",
    "#     \"\"\"\n",
    "#     ax.plot(data, label=f\"{eps =: }\")\n",
    "#     ax.set_title(title)\n",
    "#     ax.legend()\n",
    "#     return ax\n"
   ]
  },
  {
   "cell_type": "code",
   "execution_count": null,
   "metadata": {},
   "outputs": [],
   "source": [
    "\n",
    "fig, axes = plt.subplots(4, 1, \n",
    "                         figsize=(8, 32))\n",
    "axes[0] = plot(axes[0], data01, ep_lens01, eps=0.1, title=\"title1\")\n",
    "axes[0] = plot(axes[0], data05, ep_lens05, eps=0.5, title=\"title1\")"
   ]
  },
  {
   "cell_type": "code",
   "execution_count": 7,
   "metadata": {},
   "outputs": [],
   "source": [
    "right, up, left, down = A4\n",
    "\n",
    "A8 = np.array((right, right + up, up, up + left, left, left + down, down, down + right), dtype=np.int)\n",
    "A9 = np.insert(A8, 0, (0, 0), axis=0)"
   ]
  },
  {
   "attachments": {
    "pic2.png": {
     "image/png": "[encoded data removed]"
    }
   },
   "cell_type": "markdown",
   "metadata": {},
   "source": [
    "## Part II\n",
    "Consider the following gridworld with four actions (up, down, right, and left). If the action takes the agent off the gird, the agent stays in the same state. In each non-terminating step, the agent receives a random reward of -12 or +10 with equal probability. The reward for reaching the goal state is +5 and the episode ends when the agent reaches the goal.\n",
    "\n",
    "Use $\\varepsilon$–greedy policy with $\\varepsilon(s) = \\frac{1}{\\sqrt{n(s)}}$ where $n(s)$ is the number of times state $s$ has been visited, assuring infinite exploration in the limit which is a theoretical requirement for the convergence of both **Q-learning** and **Double Q-learning**. \n",
    "![pic2.png](attachment:pic2.png)\n",
    "\n",
    "a. Implement **Q-learning** and **Double Q-learning** and apply them to this problem for 10,000 experiments using the learning rate $\\alpha=\\frac{1}{n(s,a)}$.\n",
    "\n",
    "b. Plot the average reward per step vs. number of time steps averaged over 10,000 experiments. The length of an episode following the optimal policy is five actions, so the optimal average reward per step is +0.2. Plot this true value in your figure and see how close your algorithm gets to the true value.\n",
    "\n",
    "c. Plot the maximal action value in the starting state $S$ (i.e. $max_a Q(s,a)$) averaged over 10,000 experiments. The optimal value of maximally valued action in the starting state is $5\\gamma^4 - \\sum_{k=0}^3 \\approx 0.36$. Plot this true value in your figure and see how close your algorithm gets to the true value.\n",
    "\n",
    "d. Repeat the experiments with $\\alpha = \\frac{1}{n(s,a)^{0.8}}$ and redo steps b and c.\n",
    "\n",
    "\n",
    "**Note:** You should have four figures (average rewards and maximal action values for different learning rates, $2 \\times 2$). \n"
   ]
  },
  {
   "cell_type": "code",
   "execution_count": 8,
   "metadata": {},
   "outputs": [],
   "source": [
    "# Your code here"
   ]
  },
  {
   "cell_type": "markdown",
   "metadata": {},
   "source": [
    "Answer the following questions:\n",
    "\n",
    "a.\tWhich algorithm finds a better policy? Why?\n",
    "> Answer \n",
    "\n",
    "b.\tb.\tWhich learning rate performs better? \n",
    "> Answer"
   ]
  },
  {
   "cell_type": "code",
   "execution_count": null,
   "metadata": {},
   "outputs": [],
   "source": []
  }
 ],
 "metadata": {
  "kernelspec": {
   "display_name": "Python 3",
   "language": "python",
   "name": "python3"
  },
  "language_info": {
   "codemirror_mode": {
    "name": "ipython",
    "version": 3
   },
   "file_extension": ".py",
   "mimetype": "text/x-python",
   "name": "python",
   "nbconvert_exporter": "python",
   "pygments_lexer": "ipython3",
   "version": "3.8.10"
  }
 },
 "nbformat": 4,
 "nbformat_minor": 2
}
