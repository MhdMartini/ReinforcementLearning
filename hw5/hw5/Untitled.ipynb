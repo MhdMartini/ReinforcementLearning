{
 "cells": [
  {
   "cell_type": "code",
   "execution_count": 11,
   "id": "crucial-school",
   "metadata": {},
   "outputs": [],
   "source": [
    "import numpy as np\n",
    "import matplotlib.pyplot as plt\n"
   ]
  },
  {
   "cell_type": "code",
   "execution_count": 22,
   "id": "established-venue",
   "metadata": {},
   "outputs": [
    {
     "name": "stdout",
     "output_type": "stream",
     "text": [
      "[0.05741844 0.00509586 0.35915731]\n"
     ]
    }
   ],
   "source": [
    "num_agents = 3\n",
    "C = 0\n",
    "\n",
    "X = np.zeros(num_agents)  # opinions matrix\n",
    "STD = abs(np.random.normal(0, 0.2, size=num_agents))\n",
    "A = np.identity(num_agents)\n",
    "RT = np.zeros(num_agents)\n",
    "\n",
    "print(STD)\n"
   ]
  },
  {
   "cell_type": "code",
   "execution_count": null,
   "id": "empirical-dayton",
   "metadata": {},
   "outputs": [
    {
     "name": "stdout",
     "output_type": "stream",
     "text": [
      "X Before [ 0.07481811  0.00516261 -0.22455203]\n",
      "X After [ 0.07481811  0.00516261 -0.22455203]\n",
      "RT [5.95477454e+01 1.25066352e+04 6.61065925e+00]\n",
      "A [[0.   0.99 0.  ]\n",
      " [0.   0.99 0.  ]\n",
      " [0.   0.99 0.  ]]\n",
      "\n",
      "X Before [8.63836812e-02 5.12479090e-05 5.87222330e-01]\n",
      "X After [0.00076887 0.00076887 0.00076887]\n",
      "RT [563924.54232555 576371.62974331 563871.60523936]\n",
      "A [[0.33 0.34 0.33]\n",
      " [0.33 0.34 0.33]\n",
      " [0.33 0.34 0.33]]\n",
      "\n",
      "X Before [ 0.090466   -0.00282354  0.51559579]\n",
      "X After [0.19958036 0.19958036 0.19958036]\n",
      "RT [563932.91073957 576379.99815733 563879.97365338]\n",
      "A [[0.33 0.34 0.33]\n",
      " [0.33 0.34 0.33]\n",
      " [0.33 0.34 0.33]]\n"
     ]
    }
   ],
   "source": [
    "def get_X(X):\n",
    "    for i in range(X.shape[0]):\n",
    "        X[i] = np.random.normal(C, STD[i])\n",
    "    return X\n",
    "\n",
    "while True:\n",
    "    X = get_X(X)\n",
    "    print(\"X Before\", X)\n",
    "    X = np.matmul(A, X)\n",
    "    print(\"X After\", X)\n",
    "    RT += 1 / (X - C)**2 / num_agents\n",
    "    A[:] = RT / np.sum(RT)\n",
    "    print(\"RT\", RT)\n",
    "    print(\"A\", np.around(A, 2))\n",
    "\n",
    "    if input():\n",
    "        break"
   ]
  },
  {
   "cell_type": "code",
   "execution_count": null,
   "id": "defensive-shade",
   "metadata": {},
   "outputs": [],
   "source": [
    "a = np.array([ 502140.90216018, 1761549.84692459,  502183.39797852])\n",
    "a/np.sum(a\n",
    "        \n",
    "        )"
   ]
  },
  {
   "cell_type": "code",
   "execution_count": 9,
   "id": "dried-thumb",
   "metadata": {},
   "outputs": [
    {
     "data": {
      "text/plain": [
       "array([[0.33, 0.33, 0.33],\n",
       "       [0.33, 0.33, 0.33],\n",
       "       [0.33, 0.33, 0.33]])"
      ]
     },
     "execution_count": 9,
     "metadata": {},
     "output_type": "execute_result"
    }
   ],
   "source": [
    "np.around(A, 2)"
   ]
  },
  {
   "cell_type": "code",
   "execution_count": null,
   "id": "turkish-genetics",
   "metadata": {},
   "outputs": [],
   "source": []
  }
 ],
 "metadata": {
  "kernelspec": {
   "display_name": "Python 3",
   "language": "python",
   "name": "python3"
  },
  "language_info": {
   "codemirror_mode": {
    "name": "ipython",
    "version": 3
   },
   "file_extension": ".py",
   "mimetype": "text/x-python",
   "name": "python",
   "nbconvert_exporter": "python",
   "pygments_lexer": "ipython3",
   "version": "3.8.10"
  }
 },
 "nbformat": 4,
 "nbformat_minor": 5
}
