{
 "cells": [
  {
   "cell_type": "markdown",
   "metadata": {},
   "source": [
    "<center>\n",
    "    COMP4600/5500 - Reinforcement Learning\n",
    "\n",
    "# Homework 8 - Policy Gradient\n",
    "\n",
    "### Due: Monday, November 29th 11:59 pm\n",
    "    \n",
    "</center>"
   ]
  },
  {
   "cell_type": "markdown",
   "metadata": {},
   "source": [
    "Student Name: Mohamed Martini"
   ]
  },
  {
   "cell_type": "markdown",
   "metadata": {},
   "source": [
    "The purpose of this project is to study different properties of Policy Gradient algorithms with Function Approximation."
   ]
  },
  {
   "cell_type": "code",
   "execution_count": 2,
   "metadata": {},
   "outputs": [
    {
     "name": "stdout",
     "output_type": "stream",
     "text": [
      "pygame 2.0.1 (SDL 2.0.14, Python 3.8.10)\n",
      "Hello from the pygame community. https://www.pygame.org/contribute.html\n"
     ]
    }
   ],
   "source": [
    "# You are allowed to use the following modules\n",
    "import numpy as np\n",
    "import matplotlib.pyplot as plt\n",
    "from mountain_car import MountainCar\n",
    "import pygame as pg\n",
    "from itertools import product, count\n",
    "from collections import deque\n",
    "from tqdm import tqdm\n",
    "from IPython.display import clear_output\n",
    "\n",
    "\"\"\"\n",
    "Comment if you get an error, or install the following library to use latex with matplotlib on Linux:\n",
    "sudo apt-get install texlive-latex-extra texlive-fonts-recommended dvipng cm-super\n",
    "\"\"\"\n",
    "plt.rcParams['text.usetex'] = True\n"
   ]
  },
  {
   "attachments": {
    "mc.png": {
     "image/png": "[encoded data removed]"
    }
   },
   "cell_type": "markdown",
   "metadata": {},
   "source": [
    "## Task description\n",
    "Consider the task of driving an underpowered car up a steep mountain road, as suggested by the diagram in the upper left of the following figure. The difficulty is that gravity is stronger than the car's engine, and even at full throttle the car cannot accelerate up the steep slope. The only solution is to first move away from the goal and up the opposite slope on the left. Then by applying full throttle the car can build up enough inertia to carry it up the steep slope even though it is slowing down the whole way.\n",
    "\n",
    "\n",
    "![mc.png](attachment:mc.png)\n",
    "\n",
    "\n",
    "This is a continuous control task where things have to get worse in a sense (farther from the goal) before they can get better. The reward in this problem is -1 on all time steps until the car moves past its goal position at the top of the mountain, which ends the episode. There are three possible actions: full throttle forward (+1), full throttle reverse (-1), and zero throttle (0). The car moves according to a simplified physics. Its position $x_t$ and velocity $\\dot{x}_t$ are updated by\n",
    "\n",
    "$x_{t+1} \\doteq \\text{bound}[x_t + \\dot{x}_{t+1}]$\n",
    "\n",
    "$\\dot{x}_{t+1} \\doteq \\text{bound}[\\dot{x}_t + 0.001 A_t - 0.0025 \\cos(3x_t)]$\n",
    "\n",
    "\n",
    "where the \\textit{bound} operation enforces $-1.2 \\le x_{t+1} \\le 0.5$ and $-0.07 \\le \\dot{x}_{t+1} \\le 0.07$. In addition, when $x_{t+1}$ reached the left bound, $\\dot{x}_{t+1}$ was reset to zero. When it reached the right bound, the goal was reached and the episode was terminated. Each episode starts from a random position $x_t \\in [-0.6, -0.4)$ and zero velocity.\n",
    "\n",
    "\n",
    "\n",
    "\n",
    "**Note:** You have been given a simple implementation of the Mountain Car task. You can use your implementation of the function approximation from Homework 6, or implement a new one. \n"
   ]
  },
  {
   "cell_type": "code",
   "execution_count": 3,
   "metadata": {},
   "outputs": [],
   "source": [
    "def episode():\n",
    "    car = MountainCar()\n",
    "    x = np.random.uniform(-0.6, -0.4)\n",
    "    v = 0\n",
    "    X = [x]\n",
    "    while True:\n",
    "        a = np.random.choice(car.actions)\n",
    "        x, v, r, goal_reached = car.move(x, v, a)\n",
    "        X.append(x)\n",
    "        if goal_reached:\n",
    "            return X\n"
   ]
  },
  {
   "cell_type": "code",
   "execution_count": 4,
   "metadata": {},
   "outputs": [],
   "source": [
    "FPS = 40\n",
    "BG_COLOR = pg.Color(200, 200, 200)\n",
    "CURVE_COLOR = pg.Color(70, 70, 70)\n",
    "CAR_COLOR = pg.Color(200, 70, 70)\n",
    "\n",
    "SCALE = 500\n",
    "PAD = 200\n",
    "\n",
    "X_MIN, X_MAX = -1.2, 0.5\n",
    "Y_MAX, Y_MIN = 1, 0\n",
    "\n",
    "WIDTH = int((X_MAX - X_MIN) * SCALE  + PAD)\n",
    "HEIGHT = int((Y_MAX - Y_MIN) * SCALE  + PAD)\n",
    "\n",
    "\n",
    "def transform(x, y):\n",
    "    \"\"\"transform an xy coordinate to pygame screen coordinates\"\"\"\n",
    "    return (x + 1.2) * SCALE + PAD / 2, (1 - y) * SCALE + PAD / 2\n",
    "\n",
    "def curve(x):\n",
    "    return 0.45 * np.sin(3*x) + 0.55\n",
    "\n",
    "\n",
    "class PgCar:\n",
    "\n",
    "    def __init__(self):\n",
    "        self.screen, self.bg = self.init()\n",
    "        \n",
    "    def init(self):\n",
    "        pg.init()  # initialize pygame\n",
    "        screen = pg.display.set_mode((WIDTH, HEIGHT))  # set up the screen\n",
    "        pg.display.set_caption(\"Mohamed Martini\")  # add a caption\n",
    "        bg = pg.Surface(screen.get_size())  # get a background surface\n",
    "        bg = bg.convert()\n",
    "        bg.fill(BG_COLOR)\n",
    "        screen.blit(bg, (0, 0))\n",
    "        return screen, bg\n",
    "\n",
    "    def draw_curve(self):\n",
    "        start = None\n",
    "        for x in np.arange(X_MIN, X_MAX, 0.001):\n",
    "            end = transform(x, curve(x))\n",
    "            try:\n",
    "                pg.draw.line(self.screen, CURVE_COLOR, start, end, width=7)\n",
    "            except:\n",
    "                continue\n",
    "            finally:\n",
    "                start = end\n",
    "\n",
    "    def render(self):\n",
    "        \"\"\"show the grid array on the screen\"\"\"\n",
    "        pg.display.flip()\n",
    "        pg.display.update()\n",
    "    \n",
    "    def reset_screen(self):\n",
    "        self.screen.fill(BG_COLOR)\n",
    "        self.draw_curve()\n",
    "    \n",
    "    def animate(self, X):\n",
    "        \"\"\"receive a list of positions on the x axis, and plot the movement of the screen\"\"\"\n",
    "        clock = pg.time.Clock()\n",
    "        radius = 20\n",
    "        i = 0\n",
    "        num_steps = len(X)\n",
    "        run = True\n",
    "        while run:\n",
    "            clock.tick(FPS)\n",
    "            for event in pg.event.get():\n",
    "                if event.type == pg.QUIT:\n",
    "                    run = False\n",
    "            if i == num_steps - 1:\n",
    "                continue\n",
    "            i += 1\n",
    "            center = np.array((X[i], curve(X[i])))\n",
    "            center = transform(*center)\n",
    "            self.reset_screen()\n",
    "            pg.draw.circle(self.screen, CAR_COLOR, center, radius, width=radius)\n",
    "            self.render()\n",
    "        pg.quit()\n",
    "\n",
    "# X = episode()      \n",
    "# PgCar().animate(X)\n"
   ]
  },
  {
   "cell_type": "code",
   "execution_count": 5,
   "metadata": {},
   "outputs": [],
   "source": [
    "shift = np.array((1.2, 0.07))\n",
    "scale = np.array((1.7, 0.14))\n",
    "\n",
    "def xv_to_s(xv):\n",
    "    \"\"\"transform from xv to normalized state\"\"\"\n",
    "    return (xv + shift) / scale\n",
    "\n",
    "def s_to_xv(s):\n",
    "    \"\"\"transform from normalized state to xv\"\"\"\n",
    "    return s * scale - shift\n"
   ]
  },
  {
   "cell_type": "code",
   "execution_count": 6,
   "metadata": {},
   "outputs": [],
   "source": [
    "def _x_s(s: np.array):\n",
    "    \"\"\"return x(s) as fourier basis of state\"\"\"\n",
    "    x = np.zeros(NUM_FEATURES)\n",
    "    for i, c in enumerate(product(range(D + 1), repeat=K)):\n",
    "        c = np.array(c)\n",
    "        x[i] = np.cos(np.pi * s.T @ c)\n",
    "    return x\n",
    "\n",
    "\n",
    "def x_s(s: np.array):\n",
    "    \"\"\"\n",
    "    return x(s) as fourier basis of state. \n",
    "    Look first if previously computated, else compute and store it\n",
    "    \"\"\"\n",
    "    global BASIS\n",
    "    try:\n",
    "        return BASIS[tuple(s)]\n",
    "    except KeyError:\n",
    "        BASIS[tuple(s)] = _x_s(s)\n",
    "        return BASIS[tuple(s)]\n",
    "\n",
    "def x_sa(s: np.array, a: int):\n",
    "    \"\"\"return x(s, a) as fourier basis of state, shifted according to the action index\"\"\"\n",
    "    x = np.zeros(NUM_FEATURES * NUM_ACTIONS)\n",
    "    start = NUM_FEATURES * a\n",
    "    end = start + NUM_FEATURES\n",
    "    x[start: end] = x_s(s)\n",
    "    return x\n",
    "    \n",
    "    \n",
    "def h_s(s: np.array, theta: np.array):\n",
    "    \"\"\"return actions' preferences in state s\"\"\"\n",
    "    h = np.zeros(NUM_ACTIONS)\n",
    "    for a in range(NUM_ACTIONS):\n",
    "        h[a] = theta @ x_sa(s, a)\n",
    "    return h\n",
    "\n",
    "def pi_s(s: np.array, theta: np.array):\n",
    "    \"\"\"return policy at state s\"\"\"\n",
    "    h = h_s(s, theta)\n",
    "    exp = np.exp(h - np.max(h))\n",
    "    return exp / np.sum(exp)\n",
    "\n",
    "def v_s(s: np.array, w: np.array):\n",
    "    \"\"\"return the value of a state given the weights vector of a specific action\"\"\"\n",
    "    return w @ x_s(s)\n",
    "\n",
    "def get_action(s, theta):\n",
    "    \"\"\"return index of action at state s according to weights theta\"\"\"\n",
    "    policy = pi_s(s, theta)\n",
    "    return np.random.choice(range(NUM_ACTIONS), p=policy), policy\n",
    "\n",
    "def get_pi_gradient(s, a, policy):\n",
    "    \"\"\"compute gradient ln pi(a|s, theta), which equals x(s,a) = \\sum_b \\pi(b|s, theta) x(s,b)\"\"\"\n",
    "    x = x_sa(s, a)\n",
    "    summation = 0\n",
    "    for i in range(NUM_ACTIONS):\n",
    "        summation += policy[i] * x_sa(s, i)\n",
    "    return x - summation\n"
   ]
  },
  {
   "cell_type": "markdown",
   "metadata": {},
   "source": [
    "## Part I (COMP4600)\n",
    "\n",
    "Implement REINFORCE with Baseline (p. 330).\n",
    "\n"
   ]
  },
  {
   "cell_type": "code",
   "execution_count": 7,
   "metadata": {},
   "outputs": [],
   "source": [
    "def reinforce_w_baseline(num_episodes):\n",
    "\n",
    "    gamma = 1\n",
    "    alpha_w = 2e-11\n",
    "    alpha_theta = 2e-11\n",
    "\n",
    "    theta = np.zeros(NUM_ACTIONS * NUM_FEATURES)  # theta for each action\n",
    "    W = np.zeros(NUM_FEATURES)  # weights for estimating v_s\n",
    "\n",
    "    steps_per_e = np.zeros(num_episodes)\n",
    "\n",
    "    for episode in range(num_episodes):\n",
    "        # generate an episode following policy\n",
    "        car = MountainCar()\n",
    "\n",
    "        A_t = []\n",
    "        S_t = []\n",
    "        Pi_t = []\n",
    "\n",
    "        xv = np.array((np.random.uniform(-0.6, -0.4), 0))\n",
    "        s = xv_to_s(xv)\n",
    "\n",
    "        for t in count():\n",
    "            # select action\n",
    "            a, policy = get_action(s, theta)\n",
    "            S_t.append(s)\n",
    "            A_t.append(a)\n",
    "            Pi_t.append(policy)\n",
    "\n",
    "            # take action, observe reward and next state\n",
    "            x, v = s_to_xv(s)\n",
    "            xp, vp, r, goal_reached = car.move(x, v, A[a])\n",
    "            sp = xv_to_s(np.array((xp, vp)))\n",
    "            \n",
    "            # calculate the error (delta) - account for terminal state\n",
    "            if goal_reached:\n",
    "                steps_per_e[episode] = t\n",
    "                break\n",
    "            s = sp\n",
    "        \n",
    "        T = t\n",
    "        for t in range(T):\n",
    "            G = -1 * (T - t)\n",
    "            delta = G - v_s(S_t[t], W)\n",
    "            W += alpha_w * delta * x_s(S_t[t])\n",
    "            theta += alpha_theta * delta * get_pi_gradient(S_t[t], A_t[t], Pi_t[t])\n",
    "                \n",
    "    return steps_per_e"
   ]
  },
  {
   "cell_type": "code",
   "execution_count": 8,
   "metadata": {},
   "outputs": [],
   "source": [
    "BASIS = dict()  # to store the used fourier basis"
   ]
  },
  {
   "cell_type": "code",
   "execution_count": null,
   "metadata": {},
   "outputs": [
    {
     "name": "stdout",
     "output_type": "stream",
     "text": [
      "episode = 11\n"
     ]
    }
   ],
   "source": [
    "A = np.array([-1, 0, 1])\n",
    "NUM_ACTIONS = 3\n",
    "K = 2\n",
    "D = 3\n",
    "NUM_FEATURES = (D + 1) ** K\n",
    "\n",
    "runs = 50\n",
    "num_episodes = 50\n",
    "\n",
    "steps_per_e_per_run_reinforce = np.zeros((runs, num_episodes))\n",
    "for run in tqdm(range(runs)):\n",
    "    steps_per_e = reinforce_w_baseline(num_episodes)\n",
    "    steps_per_e_per_run_reinforce[run, :] = steps_per_e\n"
   ]
  },
  {
   "cell_type": "markdown",
   "metadata": {},
   "source": [
    "## Part I (COMP5500)\n",
    "\n",
    "Implement ACTOR-CRITIC with Eligibility Trace (p. 332).\n",
    "\n"
   ]
  },
  {
   "cell_type": "code",
   "execution_count": 1,
   "metadata": {},
   "outputs": [],
   "source": [
    "def actor_critic_et(num_episodes):\n",
    "    car = MountainCar()\n",
    "    gamma = 1\n",
    "    theta = np.zeros(NUM_ACTIONS * NUM_FEATURES)  # theta for each action\n",
    "    W = np.zeros(NUM_FEATURES)  # weights for estimating v_s\n",
    "    \n",
    "    lambda_w = 0.8\n",
    "    lambda_theta = 0.8\n",
    "    \n",
    "    alpha_w = 1e-3\n",
    "    alpha_theta = 1e-3\n",
    "    \n",
    "    steps_per_e = np.zeros(num_episodes)\n",
    "    \n",
    "    for episode in range(num_episodes):\n",
    "        # initialize s\n",
    "        xv = np.array((np.random.uniform(-0.6, -0.4), 0))\n",
    "        s = xv_to_s(xv)\n",
    "\n",
    "        # reset z vectors\n",
    "        z_theta = np.zeros_like(theta)\n",
    "        z_w = np.zeros_like(W)\n",
    "\n",
    "        # reset gamma multiplier\n",
    "        I = 1\n",
    "        \n",
    "        # reset trajectory\n",
    "        traj = [xv[0]]\n",
    "        \n",
    "        # loop through episode\n",
    "        for t in count():\n",
    "            # select action\n",
    "            a, policy = get_action(s, theta)\n",
    "            \n",
    "            # take action, observe reward and next state\n",
    "            x, v = s_to_xv(s)\n",
    "            xp, vp, r, goal_reached = car.move(x, v, A[a])\n",
    "            sp = xv_to_s(np.array((xp, vp)))\n",
    "            traj.append(xp)\n",
    "            \n",
    "            # calculate the error (delta) - account for terminal state\n",
    "            if goal_reached:\n",
    "                v_sp = 0\n",
    "            else:\n",
    "                v_sp = v_s(sp, W)\n",
    "            delta = r + gamma * v_sp  - v_s(s, W)\n",
    "            \n",
    "            # update z_w\n",
    "            z_w = gamma * lambda_w * z_w + x_s(s)\n",
    "            \n",
    "            # update z_theta\n",
    "            gradient = get_pi_gradient(s, a, policy)\n",
    "            z_theta = gamma * lambda_theta * z_theta + I * gradient\n",
    "            \n",
    "            # update w\n",
    "            W += alpha_w * delta * z_w\n",
    "            \n",
    "            # update theta\n",
    "            theta += alpha_theta * delta * z_theta\n",
    "            \n",
    "            if goal_reached:\n",
    "                car.goal_reached = False\n",
    "                break\n",
    "            \n",
    "            I *= gamma\n",
    "            s = sp\n",
    "        \n",
    "        steps_per_e[episode] = t\n",
    "            \n",
    "    return theta, traj, steps_per_e\n",
    "            "
   ]
  },
  {
   "cell_type": "markdown",
   "metadata": {},
   "source": [
    "## Part II\n",
    "\n",
    "Use the algorithm to learn the Mountain Car task. Tune the step-size parameter ($\\alpha$), the Function Approximation order, the discount factor ($\\gamma$), and the $\\lambda$-value. **Note:** you can consider the problem to be undiscounted.\n",
    " \n",
    "1. Plot step-per-episode (in log scale) vs. number of episodes. This plot should be averaged over 50-100 runs. \n",
    "2. Plot total reward on episode vs. number of episodes. This plot should be averaged over 50-100 runs.\n",
    "3. Show an animation of the task for the final episode.\n"
   ]
  },
  {
   "cell_type": "code",
   "execution_count": 2,
   "metadata": {},
   "outputs": [
    {
     "ename": "NameError",
     "evalue": "name 'np' is not defined",
     "output_type": "error",
     "traceback": [
      "\u001b[0;31m---------------------------------------------------------------------------\u001b[0m",
      "\u001b[0;31mNameError\u001b[0m                                 Traceback (most recent call last)",
      "\u001b[0;32m<ipython-input-2-88f4dd33c492>\u001b[0m in \u001b[0;36m<module>\u001b[0;34m\u001b[0m\n\u001b[1;32m      2\u001b[0m \u001b[0mnum_episodes\u001b[0m \u001b[0;34m=\u001b[0m \u001b[0;36m50\u001b[0m\u001b[0;34m\u001b[0m\u001b[0;34m\u001b[0m\u001b[0m\n\u001b[1;32m      3\u001b[0m \u001b[0;34m\u001b[0m\u001b[0m\n\u001b[0;32m----> 4\u001b[0;31m \u001b[0msteps_per_e_per_run_actor_critic\u001b[0m \u001b[0;34m=\u001b[0m \u001b[0mnp\u001b[0m\u001b[0;34m.\u001b[0m\u001b[0mzeros\u001b[0m\u001b[0;34m(\u001b[0m\u001b[0;34m(\u001b[0m\u001b[0mruns\u001b[0m\u001b[0;34m,\u001b[0m \u001b[0mnum_episodes\u001b[0m\u001b[0;34m)\u001b[0m\u001b[0;34m)\u001b[0m\u001b[0;34m\u001b[0m\u001b[0;34m\u001b[0m\u001b[0m\n\u001b[0m\u001b[1;32m      5\u001b[0m \u001b[0;32mfor\u001b[0m \u001b[0mrun\u001b[0m \u001b[0;32min\u001b[0m \u001b[0mtqdm\u001b[0m\u001b[0;34m(\u001b[0m\u001b[0mrange\u001b[0m\u001b[0;34m(\u001b[0m\u001b[0mruns\u001b[0m\u001b[0;34m)\u001b[0m\u001b[0;34m)\u001b[0m\u001b[0;34m:\u001b[0m\u001b[0;34m\u001b[0m\u001b[0;34m\u001b[0m\u001b[0m\n\u001b[1;32m      6\u001b[0m     \u001b[0m_\u001b[0m\u001b[0;34m,\u001b[0m \u001b[0mtraj\u001b[0m\u001b[0;34m,\u001b[0m \u001b[0msteps_per_e\u001b[0m \u001b[0;34m=\u001b[0m \u001b[0mactor_critic_et\u001b[0m\u001b[0;34m(\u001b[0m\u001b[0mnum_episodes\u001b[0m\u001b[0;34m)\u001b[0m\u001b[0;34m\u001b[0m\u001b[0;34m\u001b[0m\u001b[0m\n",
      "\u001b[0;31mNameError\u001b[0m: name 'np' is not defined"
     ]
    }
   ],
   "source": [
    "runs = 50\n",
    "num_episodes = 50\n",
    "\n",
    "steps_per_e_per_run_actor_critic = np.zeros((runs, num_episodes))\n",
    "for run in tqdm(range(runs)):\n",
    "    _, traj, steps_per_e = actor_critic_et(num_episodes)\n",
    "    steps_per_e_per_run_actor_critic[run, :] = np.copy(steps_per_e)\n"
   ]
  },
  {
   "cell_type": "code",
   "execution_count": null,
   "metadata": {},
   "outputs": [],
   "source": [
    "fig, axes = plt.subplots(nrows=1, ncols=2, figsize=(20, 10))\n",
    "fig.suptitle(\"Reinforce with Baseline vs.  ACTOR-CRITIC with Eligibility Trace - Mountain Car Problem\\n \\\n",
    "$\\gamma = 1$. $a_w = a_{\\\\theta} = 0.001$. $\\lambda_w = \\lambda_{\\\\theta} = 0.8$\",\n",
    "            fontsize=24)\n",
    "xlabel = \"Episode Number\"\n",
    "ylabels = [\"Average Number of Timesteps (log scale)\", \"Average Reward\"]\n",
    "\n",
    "axes[0].plot(np.log10(steps_per_e_per_run_reinforce.mean(0)), label=\"Reinforce with Baseline\")\n",
    "axes[0].plot(np.log10(steps_per_e_per_run_actor_critic.mean(0)), label=\"ACTOR-CRITIC with Eligibility Trace\")\n",
    "\n",
    "axes[1].plot(-1 * steps_per_e_per_run_reinforce.mean(0), label=\"Reinforce with Baseline\")  # reward = - number of steps\n",
    "axes[1].plot(-1 * steps_per_e_per_run_actor_critic.mean(0), label=\"ACTOR-CRITIC with Eligibility Trace\")  # reward = - number of steps\n",
    "\n",
    "for i, ax in enumerate(axes):\n",
    "    ax.set_xlabel(xlabel, fontsize=18)\n",
    "    ax.set_ylabel(ylabels[i], fontsize=18)\n",
    "    ax.set_title(f\"{ylabels[i]} per Episode over {runs} Runs\", fontsize=20)\n",
    "    ax.grid()\n",
    "    ax.legend()\n",
    "\n",
    "\n",
    "plt.tight_layout()\n",
    "plt.show()\n"
   ]
  },
  {
   "cell_type": "code",
   "execution_count": null,
   "metadata": {},
   "outputs": [],
   "source": [
    "steps_per_e_per_run_reinforce"
   ]
  },
  {
   "cell_type": "code",
   "execution_count": null,
   "metadata": {},
   "outputs": [],
   "source": [
    "car = PgCar()\n",
    "car.animate(traj)\n"
   ]
  },
  {
   "cell_type": "markdown",
   "metadata": {},
   "source": [
    "## Part III*\n",
    "\n",
    "Implement the other algorithm and include plots for both algorithms in part II."
   ]
  },
  {
   "cell_type": "code",
   "execution_count": null,
   "metadata": {},
   "outputs": [],
   "source": [
    "# Your code here (you are allowed to import from an external python file (of your own impmenetation) \n",
    "# instead of copying all the code here)"
   ]
  }
 ],
 "metadata": {
  "kernelspec": {
   "display_name": "Python 3",
   "language": "python",
   "name": "python3"
  },
  "language_info": {
   "codemirror_mode": {
    "name": "ipython",
    "version": 3
   },
   "file_extension": ".py",
   "mimetype": "text/x-python",
   "name": "python",
   "nbconvert_exporter": "python",
   "pygments_lexer": "ipython3",
   "version": "3.8.10"
  }
 },
 "nbformat": 4,
 "nbformat_minor": 2
}
