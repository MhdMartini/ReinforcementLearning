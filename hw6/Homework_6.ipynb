{
 "cells": [
  {
   "cell_type": "markdown",
   "metadata": {},
   "source": [
    "<center>\n",
    "    COMP4600/5500 - Reinforcement Learning\n",
    "\n",
    "# Homework 6 - On-policy Control with Approximation\n",
    "\n",
    "### Due: Monday, November 15th 11:59 pm\n",
    "    \n",
    "</center>"
   ]
  },
  {
   "cell_type": "markdown",
   "metadata": {},
   "source": [
    "Student Name: ______________________ "
   ]
  },
  {
   "cell_type": "markdown",
   "metadata": {},
   "source": [
    "The purpose of this project is to study different properties of Function Approximation with on-policy control methods.  "
   ]
  },
  {
   "cell_type": "code",
   "execution_count": 1,
   "metadata": {},
   "outputs": [
    {
     "name": "stdout",
     "output_type": "stream",
     "text": [
      "pygame 2.0.1 (SDL 2.0.14, Python 3.8.10)\n",
      "Hello from the pygame community. https://www.pygame.org/contribute.html\n"
     ]
    }
   ],
   "source": [
    "# You are allowed to use the following modules\n",
    "import numpy as np\n",
    "import matplotlib.pyplot as plt\n",
    "from mountain_car import MountainCar\n",
    "import pygame as pg\n",
    "from itertools import product, count"
   ]
  },
  {
   "attachments": {
    "mc.png": {
     "image/png": "[encoded data removed]"
    }
   },
   "cell_type": "markdown",
   "metadata": {},
   "source": [
    "## Task description\n",
    "Consider the task of driving an underpowered car up a steep mountain road, as suggested by the diagram in the upper left of the following figure. The difficulty is that gravity is stronger than the car's engine, and even at full throttle the car cannot accelerate up the steep slope. The only solution is to first move away from the goal and up the opposite slope on the left. Then by applying full throttle the car can build up enough inertia to carry it up the steep slope even though it is slowing down the whole way.\n",
    "\n",
    "\n",
    "![mc.png](attachment:mc.png)\n",
    "\n",
    "\n",
    "This is a continuous control task where things have to get worse in a sense (farther from the goal) before they can get better. The reward in this problem is -1 on all time steps until the car moves past its goal position at the top of the mountain, which ends the episode. There are three possible actions: full throttle forward (+1), full throttle reverse (-1), and zero throttle (0). The car moves according to a simplified physics. Its position $x_t$ and velocity $\\dot{x}_t$ are updated by\n",
    "\n",
    "$x_{t+1} \\doteq \\text{bound}[x_t + \\dot{x}_{t+1}]$\n",
    "\n",
    "$\\dot{x}_{t+1} \\doteq \\text{bound}[\\dot{x}_t + 0.001 A_t - 0.0025 \\cos(3x_t)]$\n",
    "\n",
    "\n",
    "where the \\textit{bound} operation enforces $-1.2 \\le x_{t+1} \\le 0.5$ and $-0.07 \\le \\dot{x}_{t+1} \\le 0.07$. In addition, when $x_{t+1}$ reached the left bound, $\\dot{x}_{t+1}$ was reset to zero. When it reached the right bound, the goal was reached and the episode was terminated. Each episode starts from a random position $x_t \\in [-0.6, -0.4)$ and zero velocity.\n"
   ]
  },
  {
   "cell_type": "markdown",
   "metadata": {},
   "source": [
    "## Part I\n",
    "\n",
    "You have been given a simple implementation of the Mountain Car task. \n",
    "\n",
    "1. Your first task is to check and confirm that the given code simulates the above formulae and task description. Then write a function that generates random episodes for this task. You should use the given code for the Mountain Car task. \n"
   ]
  },
  {
   "cell_type": "code",
   "execution_count": 2,
   "metadata": {},
   "outputs": [],
   "source": [
    "def episode():\n",
    "    car = MountainCar()\n",
    "    x = np.random.uniform(-0.6, -0.4)\n",
    "    v = 0\n",
    "    X = [x]\n",
    "    while True:\n",
    "        a = np.random.choice(car.actions)\n",
    "        x, v, r, goal_reached = car.move(x, v, a)\n",
    "        X.append(x)\n",
    "        if goal_reached:\n",
    "            return X\n",
    "        "
   ]
  },
  {
   "cell_type": "markdown",
   "metadata": {},
   "source": [
    "2. Use the Pygame library to develop a simple function that animates a given episode/trajectory. The equation for the mountain is $y = 0.45\\sin(3x) + 0.55$. Use a randomly generated episode from the function you developed above and pass it to your animation function, then plot the results."
   ]
  },
  {
   "cell_type": "code",
   "execution_count": 3,
   "metadata": {},
   "outputs": [],
   "source": [
    "FPS = 40\n",
    "BG_COLOR = pg.Color(200, 200, 200)\n",
    "CURVE_COLOR = pg.Color(70, 70, 70)\n",
    "CAR_COLOR = pg.Color(200, 70, 70)\n",
    "\n",
    "SCALE = 1000\n",
    "PAD = 200\n",
    "\n",
    "X_MIN, X_MAX = -1.2, 0.5\n",
    "Y_MAX, Y_MIN = 1, 0\n",
    "\n",
    "WIDTH = int((X_MAX - X_MIN) * SCALE  + PAD)\n",
    "HEIGHT = int((Y_MAX - Y_MIN) * SCALE  + PAD)\n",
    "\n",
    "def transform(x, y):\n",
    "    \"\"\"transform an xy coordinate to pygame screen coordinates\"\"\"\n",
    "    return (x + 1.2) * SCALE + PAD / 2, (1 - y) * SCALE + PAD / 2\n",
    "\n",
    "def curve(x):\n",
    "    return 0.45 * np.sin(3*x) + 0.55\n",
    "\n",
    "\n",
    "class PgCar:\n",
    "\n",
    "    def __init__(self):\n",
    "        self.screen, self.bg = self.init()\n",
    "        \n",
    "    def init(self):\n",
    "        pg.init()  # initialize pygame\n",
    "        screen = pg.display.set_mode((WIDTH, HEIGHT))  # set up the screen\n",
    "        pg.display.set_caption(\"Mohamed Martini\")  # add a caption\n",
    "        bg = pg.Surface(screen.get_size())  # get a background surface\n",
    "        bg = bg.convert()\n",
    "        bg.fill(BG_COLOR)\n",
    "        screen.blit(bg, (0, 0))\n",
    "        return screen, bg\n",
    "\n",
    "    def draw_curve(self):\n",
    "        start = None\n",
    "        for x in np.arange(X_MIN, X_MAX, 0.001):\n",
    "            end = transform(x, curve(x))\n",
    "            try:\n",
    "                pg.draw.line(self.screen, CURVE_COLOR, start, end, width=7)\n",
    "            except:\n",
    "                continue\n",
    "            finally:\n",
    "                start = end\n",
    "\n",
    "    def render(self):\n",
    "        \"\"\"show the grid array on the screen\"\"\"\n",
    "        pg.display.flip()\n",
    "        pg.display.update()\n",
    "    \n",
    "    def reset_screen(self):\n",
    "        self.screen.fill(BG_COLOR)\n",
    "        self.draw_curve()\n",
    "    \n",
    "    def animate(self, X):\n",
    "        \"\"\"receive a list of positions on the x axis, and plot the movement of the screen\"\"\"\n",
    "        clock = pg.time.Clock()\n",
    "        radius = 20\n",
    "        i = 0\n",
    "        num_steps = len(X)\n",
    "        run = True\n",
    "        while run:\n",
    "            clock.tick(FPS)\n",
    "            for event in pg.event.get():\n",
    "                if event.type == pg.QUIT:\n",
    "                    run = False\n",
    "            if i == num_steps - 1:\n",
    "                continue\n",
    "            i += 1\n",
    "            center = transform(X[i], curve(X[i]))\n",
    "            self.reset_screen()\n",
    "            pg.draw.circle(self.screen, CAR_COLOR, center, radius, width=radius)\n",
    "            self.render()\n",
    "        pg.quit()\n",
    "        \n",
    "\n",
    "# X = episode()      \n",
    "# PgCar().animate(X)"
   ]
  },
  {
   "cell_type": "markdown",
   "metadata": {},
   "source": [
    "## Part II\n",
    "\n",
    "Develop a function approximation procedure based on either **Polynomials** or **Fourier basis** (recommended). Given the current $\\bar{w}$, the developed function approximation method should return the value for each specific state."
   ]
  },
  {
   "cell_type": "code",
   "execution_count": 4,
   "metadata": {},
   "outputs": [],
   "source": [
    "def fourier_basis(s_: np.array, d: int):\n",
    "    k = s_.shape[0]\n",
    "    num_features = (d + 1) ** k\n",
    "    x_ = np.zeros(num_features)\n",
    "    for i, c in enumerate(product(range(d + 1), repeat=k)):\n",
    "        c_ = np.array(c)\n",
    "        x_[i] = np.cos(np.pi * s_.T @ c_)\n",
    "    return x_\n",
    "\n",
    "\n",
    "def q(W_, x_):\n",
    "    \"\"\"get all actions values for a given state (encoded in x_)\"\"\"\n",
    "    q_ = np.zeros(W_.shape[0])\n",
    "    for i in range(W_.shape[0]):\n",
    "        q_[i] = W_[i].T @ x_\n",
    "    return q_\n",
    "\n",
    "\n",
    "def my_argmax(array):\n",
    "    \"\"\"\n",
    "    return argmax and break ties\n",
    "    \"\"\"\n",
    "    max_ = np.max(array)\n",
    "    indx = [i for i in range(len(array)) if array[i] == max_]\n",
    "    return np.random.choice(indx)\n",
    "\n",
    "def e_greedy(array, eps):\n",
    "    if np.random.choice((True, False), p=(1 - eps, eps)):\n",
    "        return my_argmax(array)\n",
    "    return np.random.choice(range(array.shape[0]))\n"
   ]
  },
  {
   "cell_type": "markdown",
   "metadata": {},
   "source": [
    "## Part III (COMP4600)\n",
    "\n",
    "1. Implement the **Episodic Semi-gradient SARSA** (pp. 244)."
   ]
  },
  {
   "cell_type": "code",
   "execution_count": 34,
   "metadata": {},
   "outputs": [],
   "source": [
    "shift = np.array((1.2, 0.07))\n",
    "scale = np.array((1.7, 0.14))\n",
    "\n",
    "def xv_to_s(xv):\n",
    "    return (xv + shift) / scale\n",
    "\n",
    "def s_to_xv(s):\n",
    "    return s * scale - shift\n",
    "\n",
    "def SARSA_0(d: int, num_episodes):\n",
    "    car = MountainCar()\n",
    "    A_ = np.array(car.actions)\n",
    "    alpha = 0.01\n",
    "    eps = 1\n",
    "    gamma = 1\n",
    "    k = 2\n",
    "    W_ = np.zeros((A_.shape[0], (d + 1) ** k))  # w for each action\n",
    "    steps_per_e = np.zeros(num_episodes)\n",
    "    \n",
    "\n",
    "    for episode in range(num_episodes):\n",
    "        # save positions here for each episode\n",
    "        X = []\n",
    "        \n",
    "        # choose random initial position, and set initial v to 0\n",
    "        xv = np.array((np.random.uniform(-0.6, -0.4), 0))\n",
    "        s_ = xv_to_s(xv)\n",
    "\n",
    "        # get the fourier basis for the given state, with order n\n",
    "        # get the values of all actions at this state\n",
    "        # choose the best action - e-greedy\n",
    "        x_ = fourier_basis(s_, d)\n",
    "        q_ = q(W_, x_)\n",
    "        a = e_greedy(q_, eps)\n",
    "        \n",
    "        # go through episode\n",
    "        for step in count():\n",
    "            \n",
    "            # take action, observe r and sp\n",
    "            x, v = s_to_xv(s_)\n",
    "            xp, vp, r, goal_reached = car.move(x, v, A_[a])\n",
    "            s_p_ = xv_to_s(np.array((xp, vp)))\n",
    "            \n",
    "            X.append(xp)\n",
    "\n",
    "            # if terminal state is reached, update the weights and start next episode \n",
    "            if goal_reached :#or step == 10000:\n",
    "                print(\"Here\")\n",
    "                W_[a] += alpha * (r - q_[a]) * x_\n",
    "                break\n",
    "\n",
    "            \n",
    "            # get the fourier basis of next state\n",
    "            # get actions values from next state\n",
    "            # choose the best action - e-greedy\n",
    "            x_p_ = fourier_basis(s_p_, d)\n",
    "            q_p_ = q(W_, x_p_)\n",
    "            a_p = e_greedy(q_p_, eps)\n",
    "            \n",
    "            # update the weights, and make next state/action current state/action\n",
    "            W_[a] += alpha * (r + gamma * q_p_[a_p] - q_[a]) * x_\n",
    "            s_ = s_p_\n",
    "            a = a_p\n",
    "        steps_per_e[episode] = step\n",
    "    return W_, X, steps_per_e\n"
   ]
  },
  {
   "cell_type": "markdown",
   "metadata": {},
   "source": [
    "2. Use the algorithm to learn the Mountain Car task. Tune the step-size parameter ($\\alpha$), select a proper Function Approximation order, discount factor ($\\gamma$), exploration probability ($\\varepsilon$). Plot step-per-episode (in log scale) vs. number of episodes. This plot should be averaged over 50-100 runs.    "
   ]
  },
  {
   "cell_type": "code",
   "execution_count": 35,
   "metadata": {},
   "outputs": [
    {
     "name": "stdout",
     "output_type": "stream",
     "text": [
      "Here\n",
      "Here\n",
      "Here\n",
      "Here\n",
      "Here\n",
      "Here\n",
      "Here\n",
      "Here\n",
      "Here\n",
      "Here\n"
     ]
    },
    {
     "data": {
      "text/plain": [
       "[<matplotlib.lines.Line2D at 0x7f220fd5fd30>]"
      ]
     },
     "execution_count": 35,
     "metadata": {},
     "output_type": "execute_result"
    },
    {
     "data": {
      "image/png": "[encoded data removed]",
      "text/plain": [
       "<Figure size 720x720 with 1 Axes>"
      ]
     },
     "metadata": {
      "needs_background": "light"
     },
     "output_type": "display_data"
    }
   ],
   "source": [
    "runs = 1\n",
    "num_episodes = 10\n",
    "\n",
    "steps_per_e_per_run = np.zeros((runs, num_episodes))\n",
    "for run in range(runs):\n",
    "    W_, X, steps_per_e = SARSA_0(d=3, num_episodes=num_episodes)\n",
    "    steps_per_e_per_run[run, :] = np.copy(steps_per_e)\n",
    "\n",
    "plt.figure(figsize=(10, 10))\n",
    "plt.plot(steps_per_e_per_run.mean(0))"
   ]
  },
  {
   "cell_type": "markdown",
   "metadata": {},
   "source": [
    "3. Show an animation of the task."
   ]
  },
  {
   "cell_type": "code",
   "execution_count": 31,
   "metadata": {},
   "outputs": [
    {
     "data": {
      "text/plain": [
       "[-0.49830899684655755]"
      ]
     },
     "execution_count": 31,
     "metadata": {},
     "output_type": "execute_result"
    }
   ],
   "source": [
    "# PgCar().animate(X)\n",
    "X"
   ]
  },
  {
   "cell_type": "markdown",
   "metadata": {},
   "source": [
    "## Part III (COMP5500)\n",
    "\n",
    "1. Implement the **Episodic Semi-gradient $n$-step SARSA** (pp. 247)."
   ]
  },
  {
   "cell_type": "code",
   "execution_count": 201,
   "metadata": {},
   "outputs": [],
   "source": [
    "from collections import deque\n",
    "\n",
    "\n",
    "def SemiGradientNStepSarsa(d, n, num_episodes):\n",
    "    car = MountainCar()\n",
    "    A_ = np.array(car.actions)\n",
    "    alpha = 0.01\n",
    "    eps = 0.1\n",
    "    gamma = 1\n",
    "    k = 2\n",
    "    W_ = np.zeros((A_.shape[0], (d + 1) ** k))  # w for each action\n",
    "    steps_per_e = np.zeros(num_episodes)\n",
    "    \n",
    "    for episode in range(num_episodes):\n",
    "        S = deque([], maxlen=n+1)\n",
    "        A = deque([], maxlen=n+1)\n",
    "        R = deque([0], maxlen=n+1)\n",
    "\n",
    "        # save positions here for each episode\n",
    "        X = []\n",
    "        \n",
    "        # initialize and store S0\n",
    "        xv = np.array((np.random.uniform(-0.6, -0.4), 0))\n",
    "        s0_ = xv_to_s(xv)\n",
    "        S.append(s0_)\n",
    "        \n",
    "        # select and store A0\n",
    "        x_ = fourier_basis(s0_, d)\n",
    "        q_ = q(W_, x_)\n",
    "        a0 = e_greedy(q_, eps)\n",
    "        A.append(a0)\n",
    "        \n",
    "        \n",
    "        T = np.inf\n",
    "        for t in count():\n",
    "            if t < T:\n",
    "                # take action At from state St\n",
    "                a = A[t % (n + 1)]\n",
    "                x, v = s_to_xv(S[t % (n + 1)])\n",
    "                xp, vp, r, goal_reached = car.move(x, v, A_[a])\n",
    "                X.append(xp)\n",
    "                \n",
    "                # observe and store the next state and next reward\n",
    "                s_p_ = xv_to_s(np.array((xp, vp)))\n",
    "                S.append(s_p_)\n",
    "                R.append(r)\n",
    "                \n",
    "                if goal_reached:\n",
    "                    T = t + 1\n",
    "                    car.goal_reached = False\n",
    "                else:\n",
    "                    # select and store At+1\n",
    "                    x_p_ = fourier_basis(S[(t + 1) % (n + 1)], d)\n",
    "                    q_p_ = q(W_, x_p_)\n",
    "                    a_p = e_greedy(q_p_, eps)\n",
    "                    A.append(a_p)\n",
    "                 \n",
    "            tau = t - n + 1\n",
    "            if tau >= 0:\n",
    "                G = 0\n",
    "                for i in range(tau + 1, min(tau + n, T) + 1):\n",
    "                    G += R[i % (n+1)] * gamma ** (i - tau - 1)\n",
    "                    \n",
    "                if tau + n < T:\n",
    "                    x_ = fourier_basis(S[(tau + n) % (n + 1)], d)\n",
    "                    q_val = q(W_, x_)[A[(tau + n) % (n + 1)]]\n",
    "                    G += q_val * gamma ** n\n",
    "\n",
    "                x_ = fourier_basis(S[tau % (n + 1)], d)\n",
    "                q_val = q(W_, x_)[A[tau % (n + 1)]]\n",
    "                W_[A[tau % (n + 1)]] += alpha * (G - q_val) * x_\n",
    "                \n",
    "            if tau == T - 1:\n",
    "                break\n",
    "        steps_per_e[episode] = t\n",
    "    return W_, X, steps_per_e\n"
   ]
  },
  {
   "cell_type": "code",
   "execution_count": 204,
   "metadata": {},
   "outputs": [
    {
     "data": {
      "text/plain": [
       "[<matplotlib.lines.Line2D at 0x7f220f96b220>]"
      ]
     },
     "execution_count": 204,
     "metadata": {},
     "output_type": "execute_result"
    },
    {
     "data": {
      "image/png": "[encoded data removed]",
      "text/plain": [
       "<Figure size 432x288 with 1 Axes>"
      ]
     },
     "metadata": {
      "needs_background": "light"
     },
     "output_type": "display_data"
    }
   ],
   "source": [
    "# W, X, steps_per_e = SemiGradientNStepSarsa(d=3, n=8, num_episodes=50)\n",
    "# PgCar().animate(X)\n",
    "plt.plot(np.log10(steps_per_e))"
   ]
  },
  {
   "cell_type": "code",
   "execution_count": 198,
   "metadata": {},
   "outputs": [],
   "source": [
    "PgCar().animate(X)"
   ]
  },
  {
   "cell_type": "markdown",
   "metadata": {},
   "source": [
    "2. Use the algorithm to learn the Mountain Car task with $n \\in \\{1, 8, 16\\}$. Tune the step-size parameter ($\\alpha$), select a proper Function Approximation order, discount factor ($\\gamma$), exploration probability ($\\varepsilon$). Plot step-per-episode (in log scale) vs. number of episodes. This plot should be averaged over 50-100 runs.    "
   ]
  },
  {
   "cell_type": "code",
   "execution_count": null,
   "metadata": {},
   "outputs": [],
   "source": [
    "# Your code here"
   ]
  },
  {
   "cell_type": "markdown",
   "metadata": {},
   "source": [
    "3. Show an animation of the task for each $n$."
   ]
  },
  {
   "cell_type": "code",
   "execution_count": null,
   "metadata": {},
   "outputs": [],
   "source": [
    "# Your code here"
   ]
  },
  {
   "cell_type": "markdown",
   "metadata": {},
   "source": [
    "4. Which value of $n$ results in faster learning? Why?"
   ]
  },
  {
   "cell_type": "markdown",
   "metadata": {},
   "source": [
    ">Answer "
   ]
  },
  {
   "cell_type": "code",
   "execution_count": null,
   "metadata": {},
   "outputs": [],
   "source": []
  }
 ],
 "metadata": {
  "kernelspec": {
   "display_name": "Python 3",
   "language": "python",
   "name": "python3"
  },
  "language_info": {
   "codemirror_mode": {
    "name": "ipython",
    "version": 3
   },
   "file_extension": ".py",
   "mimetype": "text/x-python",
   "name": "python",
   "nbconvert_exporter": "python",
   "pygments_lexer": "ipython3",
   "version": "3.8.10"
  }
 },
 "nbformat": 4,
 "nbformat_minor": 2
}
