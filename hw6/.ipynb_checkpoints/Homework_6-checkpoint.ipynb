{
 "cells": [
  {
   "cell_type": "markdown",
   "metadata": {},
   "source": [
    "<center>\n",
    "    COMP4600/5500 - Reinforcement Learning\n",
    "\n",
    "# Homework 6 - On-policy Control with Approximation\n",
    "\n",
    "### Due: Monday, November 15th 11:59 pm\n",
    "    \n",
    "</center>"
   ]
  },
  {
   "cell_type": "markdown",
   "metadata": {},
   "source": [
    "Student Name: ______________________ "
   ]
  },
  {
   "cell_type": "markdown",
   "metadata": {},
   "source": [
    "The purpose of this project is to study different properties of Function Approximation with on-policy control methods.  "
   ]
  },
  {
   "cell_type": "code",
   "execution_count": 16,
   "metadata": {},
   "outputs": [],
   "source": [
    "# You are allowed to use the following modules\n",
    "import numpy as np\n",
    "import matplotlib.pyplot as plt\n",
    "from mountain_car import MountainCar\n",
    "import pygame as pg\n",
    "from itertools import product"
   ]
  },
  {
   "attachments": {
    "mc.png": {
     "image/png": "[encoded data removed]"
    }
   },
   "cell_type": "markdown",
   "metadata": {},
   "source": [
    "## Task description\n",
    "Consider the task of driving an underpowered car up a steep mountain road, as suggested by the diagram in the upper left of the following figure. The difficulty is that gravity is stronger than the car's engine, and even at full throttle the car cannot accelerate up the steep slope. The only solution is to first move away from the goal and up the opposite slope on the left. Then by applying full throttle the car can build up enough inertia to carry it up the steep slope even though it is slowing down the whole way.\n",
    "\n",
    "\n",
    "![mc.png](attachment:mc.png)\n",
    "\n",
    "\n",
    "This is a continuous control task where things have to get worse in a sense (farther from the goal) before they can get better. The reward in this problem is -1 on all time steps until the car moves past its goal position at the top of the mountain, which ends the episode. There are three possible actions: full throttle forward (+1), full throttle reverse (-1), and zero throttle (0). The car moves according to a simplified physics. Its position $x_t$ and velocity $\\dot{x}_t$ are updated by\n",
    "\n",
    "$x_{t+1} \\doteq \\text{bound}[x_t + \\dot{x}_{t+1}]$\n",
    "\n",
    "$\\dot{x}_{t+1} \\doteq \\text{bound}[\\dot{x}_t + 0.001 A_t - 0.0025 \\cos(3x_t)]$\n",
    "\n",
    "\n",
    "where the \\textit{bound} operation enforces $-1.2 \\le x_{t+1} \\le 0.5$ and $-0.07 \\le \\dot{x}_{t+1} \\le 0.07$. In addition, when $x_{t+1}$ reached the left bound, $\\dot{x}_{t+1}$ was reset to zero. When it reached the right bound, the goal was reached and the episode was terminated. Each episode starts from a random position $x_t \\in [-0.6, -0.4)$ and zero velocity.\n"
   ]
  },
  {
   "cell_type": "markdown",
   "metadata": {},
   "source": [
    "## Part I\n",
    "\n",
    "You have been given a simple implementation of the Mountain Car task. \n",
    "\n",
    "1. Your first task is to check and confirm that the given code simulates the above formulae and task description. Then write a function that generates random episodes for this task. You should use the given code for the Mountain Car task. \n"
   ]
  },
  {
   "cell_type": "code",
   "execution_count": 2,
   "metadata": {},
   "outputs": [],
   "source": [
    "def episode():\n",
    "    car = MountainCar()\n",
    "    x = np.random.uniform(-0.6, -0.4)\n",
    "    v = 0\n",
    "    X = [x]\n",
    "    while True:\n",
    "        a = np.random.choice(car.actions)\n",
    "        x, v, r, goal_reached = car.move(x, v, a)\n",
    "        X.append(x)\n",
    "        if goal_reached:\n",
    "            return X\n",
    "        "
   ]
  },
  {
   "cell_type": "markdown",
   "metadata": {},
   "source": [
    "2. Use the Pygame library to develop a simple function that animates a given episode/trajectory. The equation for the mountain is $y = 0.45\\sin(3x) + 0.55$. Use a randomly generated episode from the function you developed above and pass it to your animation function, then plot the results."
   ]
  },
  {
   "cell_type": "code",
   "execution_count": null,
   "metadata": {},
   "outputs": [],
   "source": [
    "FPS = 40\n",
    "BG_COLOR = pg.Color(200, 200, 200)\n",
    "CURVE_COLOR = pg.Color(70, 70, 70)\n",
    "CAR_COLOR = pg.Color(200, 70, 70)\n",
    "\n",
    "SCALE = 1000\n",
    "PAD = 200\n",
    "\n",
    "X_MIN, X_MAX = -1.2, 0.5\n",
    "Y_MAX, Y_MIN = 1, 0\n",
    "\n",
    "WIDTH = int((X_MAX - X_MIN) * SCALE  + PAD)\n",
    "HEIGHT = int((Y_MAX - Y_MIN) * SCALE  + PAD)\n",
    "\n",
    "def transform(x, y):\n",
    "    \"\"\"transform an xy coordinate to pygame screen coordinates\"\"\"\n",
    "    return (x + 1.2) * SCALE + PAD / 2, (1 - y) * SCALE + PAD / 2\n",
    "\n",
    "def curve(x, offset=0):\n",
    "    return 0.45 * np.sin(3*x) + 0.55 + offset\n",
    "\n",
    "\n",
    "class PgCar:\n",
    "\n",
    "    def __init__(self):\n",
    "        self.screen, self.bg = self.init()\n",
    "        \n",
    "    def init(self):\n",
    "        pg.init()  # initialize pygame\n",
    "        screen = pg.display.set_mode((WIDTH, HEIGHT))  # set up the screen\n",
    "        pg.display.set_caption(\"Mohamed Martini\")  # add a caption\n",
    "        bg = pg.Surface(screen.get_size())  # get a background surface\n",
    "        bg = bg.convert()\n",
    "        bg.fill(BG_COLOR)\n",
    "        screen.blit(bg, (0, 0))\n",
    "        return screen, bg\n",
    "\n",
    "    def draw_curve(self):\n",
    "        start = None\n",
    "        for x in np.arange(X_MIN, X_MAX, 0.001):\n",
    "            end = transform(x, curve(x))\n",
    "            try:\n",
    "                pg.draw.line(self.screen, CURVE_COLOR, start, end, width=7)\n",
    "            except:\n",
    "                continue\n",
    "            finally:\n",
    "                start = end\n",
    "\n",
    "    def render(self):\n",
    "        \"\"\"show the grid array on the screen\"\"\"\n",
    "        pg.display.flip()\n",
    "        pg.display.update()\n",
    "    \n",
    "    def reset_screen(self):\n",
    "        self.screen.fill(BG_COLOR)\n",
    "        self.draw_curve()\n",
    "    \n",
    "    def animate(self, X):\n",
    "        \"\"\"receive a list of positions on the x axis, and plot the movement of the screen\"\"\"\n",
    "        clock = pg.time.Clock()\n",
    "        radius = 20\n",
    "        i = 0\n",
    "        num_steps = len(X)\n",
    "        run = True\n",
    "        while run:\n",
    "            clock.tick(FPS)\n",
    "            for event in pg.event.get():\n",
    "                if event.type == pg.QUIT:\n",
    "                    run = False\n",
    "            center = transform(X[i], curve(X[i], offset=0.05))\n",
    "            self.reset_screen()\n",
    "            pg.draw.circle(self.screen, CAR_COLOR, center, radius, width=radius)\n",
    "            self.render()\n",
    "            i += 1\n",
    "            if i == num_steps - 1:\n",
    "                run = False\n",
    "        pg.quit()\n",
    "        \n",
    "\n",
    "X = episode()        \n",
    "pgcar = PgCar().animate(X)"
   ]
  },
  {
   "cell_type": "markdown",
   "metadata": {},
   "source": [
    "## Part II\n",
    "\n",
    "Develop a function approximation procedure based on either **Polynomials** or **Fourier basis** (recommended). Given the current $\\bar{w}$, the developed function approximation method should return the value for each specific state."
   ]
  },
  {
   "cell_type": "code",
   "execution_count": 17,
   "metadata": {},
   "outputs": [],
   "source": [
    "def fourier_basis(s_: np.array, n: int):\n",
    "    k = s_.shape[0]\n",
    "    num_features = (n + 1) ** k\n",
    "    x_ = np.zeros(num_features)\n",
    "    for i, c in enumerate(product(range(n), repeat=k)):\n",
    "        c_ = np.array(c)\n",
    "        x_[i] = np.cos(np.pi * s_.T @ c_)\n",
    "    return x_\n",
    "\n",
    "def v(s_: np.array, w_: np.array, n: int):\n",
    "    x_ = fourier_basis(s_, n)\n",
    "    return w_.T @ x_"
   ]
  },
  {
   "cell_type": "markdown",
   "metadata": {},
   "source": [
    "## Part III (COMP4600)\n",
    "\n",
    "1. Implement the **Episodic Semi-gradient SARSA** (pp. 244)."
   ]
  },
  {
   "cell_type": "code",
   "execution_count": null,
   "metadata": {},
   "outputs": [],
   "source": [
    "# Your code here"
   ]
  },
  {
   "cell_type": "markdown",
   "metadata": {},
   "source": [
    "2. Use the algorithm to learn the Mountain Car task. Tune the step-size parameter ($\\alpha$), select a proper Function Approximation order, discount factor ($\\gamma$), exploration probability ($\\varepsilon$). Plot step-per-episode (in log scale) vs. number of episodes. This plot should be averaged over 50-100 runs.    "
   ]
  },
  {
   "cell_type": "code",
   "execution_count": null,
   "metadata": {},
   "outputs": [],
   "source": [
    "# Your code here"
   ]
  },
  {
   "cell_type": "markdown",
   "metadata": {},
   "source": [
    "3. Show an animation of the task."
   ]
  },
  {
   "cell_type": "code",
   "execution_count": null,
   "metadata": {},
   "outputs": [],
   "source": [
    "# Your code here"
   ]
  },
  {
   "cell_type": "markdown",
   "metadata": {},
   "source": [
    "## Part III (COMP5500)\n",
    "\n",
    "1. Implement the **Episodic Semi-gradient $n$-step SARSA** (pp. 247)."
   ]
  },
  {
   "cell_type": "code",
   "execution_count": null,
   "metadata": {},
   "outputs": [],
   "source": [
    "# Your code here"
   ]
  },
  {
   "cell_type": "markdown",
   "metadata": {},
   "source": [
    "2. Use the algorithm to learn the Mountain Car task with $n \\in \\{1, 8, 16\\}$. Tune the step-size parameter ($\\alpha$), select a proper Function Approximation order, discount factor ($\\gamma$), exploration probability ($\\varepsilon$). Plot step-per-episode (in log scale) vs. number of episodes. This plot should be averaged over 50-100 runs.    "
   ]
  },
  {
   "cell_type": "code",
   "execution_count": null,
   "metadata": {},
   "outputs": [],
   "source": [
    "# Your code here"
   ]
  },
  {
   "cell_type": "markdown",
   "metadata": {},
   "source": [
    "3. Show an animation of the task for each $n$."
   ]
  },
  {
   "cell_type": "code",
   "execution_count": null,
   "metadata": {},
   "outputs": [],
   "source": [
    "# Your code here"
   ]
  },
  {
   "cell_type": "markdown",
   "metadata": {},
   "source": [
    "4. Which value of $n$ results in faster learning? Why?"
   ]
  },
  {
   "cell_type": "markdown",
   "metadata": {},
   "source": [
    ">Answer "
   ]
  },
  {
   "cell_type": "code",
   "execution_count": null,
   "metadata": {},
   "outputs": [],
   "source": []
  }
 ],
 "metadata": {
  "kernelspec": {
   "display_name": "Python 3",
   "language": "python",
   "name": "python3"
  },
  "language_info": {
   "codemirror_mode": {
    "name": "ipython",
    "version": 3
   },
   "file_extension": ".py",
   "mimetype": "text/x-python",
   "name": "python",
   "nbconvert_exporter": "python",
   "pygments_lexer": "ipython3",
   "version": "3.8.10"
  }
 },
 "nbformat": 4,
 "nbformat_minor": 2
}
