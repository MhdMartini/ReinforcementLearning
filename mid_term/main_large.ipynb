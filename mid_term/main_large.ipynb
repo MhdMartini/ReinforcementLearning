{
 "cells": [
  {
   "cell_type": "code",
   "execution_count": 1,
   "id": "accessible-signature",
   "metadata": {},
   "outputs": [
    {
     "name": "stdout",
     "output_type": "stream",
     "text": [
      "pygame 2.0.1 (SDL 2.0.14, Python 3.8.10)\n",
      "Hello from the pygame community. https://www.pygame.org/contribute.html\n"
     ]
    }
   ],
   "source": [
    "%run env_large.ipynb\n"
   ]
  },
  {
   "cell_type": "code",
   "execution_count": 2,
   "id": "requested-program",
   "metadata": {},
   "outputs": [],
   "source": [
    "def train(num_episodes, env, agent, vis=False):\n",
    "    steps_per_e = np.zeros(num_episodes)\n",
    "    r_per_e = np.zeros(num_episodes)\n",
    "    for episode in tqdm(range(num_episodes)):\n",
    "        terminal = False\n",
    "        s = env.reset()\n",
    "        r_t = 0\n",
    "        t = 0\n",
    "        while not terminal:\n",
    "            t += 1\n",
    "            a = agent.choose_action(s)\n",
    "            sp, r, terminal = env.step(a)\n",
    "            Q, s_count, sa_count = agent.learn(s, a, r, sp)\n",
    "            r_t += r\n",
    "            s = sp\n",
    "\n",
    "            if vis:\n",
    "                cont = env.render()\n",
    "                if not cont or terminal:\n",
    "                    pg.quit()\n",
    "                    vis = False\n",
    "\n",
    "        steps_per_e[episode] = t\n",
    "        r_per_e[episode] = r_t\n",
    "\n",
    "    return Q, s_count, sa_count, steps_per_e, r_per_e\n"
   ]
  },
  {
   "cell_type": "code",
   "execution_count": 3,
   "id": "disturbed-klein",
   "metadata": {},
   "outputs": [],
   "source": [
    "def play(env, Q):\n",
    "    pg.init()\n",
    "    agent = Agent(n_actions, n_dims, gamma, alpha_p, Q)\n",
    "    terminal = False\n",
    "    s = env.reset()\n",
    "    while not terminal:\n",
    "        a = agent.choose_action_egreedy(s)\n",
    "        sp, r, terminal = env.step(a)\n",
    "        cont = env.render()\n",
    "        if cont is False:\n",
    "            break\n",
    "    pg.quit()"
   ]
  },
  {
   "cell_type": "code",
   "execution_count": 4,
   "id": "atmospheric-headline",
   "metadata": {},
   "outputs": [],
   "source": [
    "def load_weights(idx, chunk):\n",
    "    post = f\"{(idx + 1) * chunk}.npy\"\n",
    "    Q = np.load(f\"Q_{post}\")\n",
    "    s_count = np.load(f\"s_count_{post}\")\n",
    "    sa_count = np.load(f\"sa_count_{post}\")\n",
    "    return Q, s_count, sa_count\n",
    "    \n",
    "def save_weights(dict_, idx, chunk):\n",
    "    for name, val in dict_.items():\n",
    "        np.save(f\"{name}_{(idx + 1) * chunk}\", val)\n"
   ]
  },
  {
   "cell_type": "code",
   "execution_count": 5,
   "id": "meaningful-pension",
   "metadata": {},
   "outputs": [],
   "source": [
    "if __name__ == \"__main__\":\n",
    "    gamma = 0.990\n",
    "    alpha_p = 0.999\n",
    "    env = Env()\n",
    "    offset = 1_000\n",
    "    num_episodes = 1_000\n",
    "    try:\n",
    "        Q = np.load(f\"Q_{offset}.npy\")\n",
    "        s_count = np.load(f\"s_count_{offset}.npy\")\n",
    "        sa_count = np.load(f\"sa_count_{offset}.npy\")\n",
    "        print(\"Imported Weights!\")\n",
    "    except FileNotFoundError:\n",
    "        Q, s_count, sa_count = None, None, None\n"
   ]
  },
  {
   "cell_type": "code",
   "execution_count": 6,
   "id": "bizarre-stadium",
   "metadata": {
    "scrolled": true
   },
   "outputs": [],
   "source": [
    "# agent = Agent(n_actions, n_dims, gamma, alpha_p, Q, s_count, sa_count)    \n",
    "# Q, s_count, sa_count, steps_per_e, r_per_e = train(num_episodes=num_episodes, env=env, agent=agent, vis=True)\n",
    "\n",
    "# np.save(f\"Q_{num_episodes + offset}\", Q)\n",
    "# np.save(f\"s_count_{num_episodes + offset}\", s_count)\n",
    "# np.save(f\"sa_count_{num_episodes + offset}\", sa_count)\n",
    "\n",
    "# plt.plot(steps_per_e)\n",
    "# # plt.plot(r_per_e)\n"
   ]
  },
  {
   "cell_type": "code",
   "execution_count": 9,
   "id": "lesbian-southeast",
   "metadata": {},
   "outputs": [],
   "source": [
    "env = Env(n_dims, n_states, actions)\n",
    "play(env, Q)"
   ]
  },
  {
   "cell_type": "code",
   "execution_count": null,
   "id": "increased-novelty",
   "metadata": {},
   "outputs": [],
   "source": []
  }
 ],
 "metadata": {
  "kernelspec": {
   "display_name": "Python 3",
   "language": "python",
   "name": "python3"
  },
  "language_info": {
   "codemirror_mode": {
    "name": "ipython",
    "version": 3
   },
   "file_extension": ".py",
   "mimetype": "text/x-python",
   "name": "python",
   "nbconvert_exporter": "python",
   "pygments_lexer": "ipython3",
   "version": "3.8.10"
  }
 },
 "nbformat": 4,
 "nbformat_minor": 5
}
