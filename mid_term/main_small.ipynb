{
 "cells": [
  {
   "cell_type": "code",
   "execution_count": 8,
   "id": "thorough-cross",
   "metadata": {},
   "outputs": [],
   "source": [
    "%run env_small.ipynb"
   ]
  },
  {
   "cell_type": "code",
   "execution_count": 9,
   "id": "sealed-communication",
   "metadata": {},
   "outputs": [],
   "source": [
    "def train(num_episodes, env, agent, vis=False):\n",
    "    steps_per_e = np.zeros(num_episodes)\n",
    "    r_per_e = np.zeros(num_episodes)\n",
    "    for episode in tqdm(range(num_episodes)):\n",
    "        terminal = False\n",
    "        s = env.reset()\n",
    "        r_t = 0\n",
    "        t = 0\n",
    "        while not terminal:\n",
    "            t += 1\n",
    "            a = agent.choose_action(s)\n",
    "            sp, r, terminal = env.step(a)\n",
    "            Q, s_count, sa_count = agent.learn(s, a, r, sp)\n",
    "            r_t += r\n",
    "            s = sp\n",
    "\n",
    "            if vis:\n",
    "                cont = env.render()\n",
    "                if not cont or terminal:\n",
    "                    pg.quit()\n",
    "                    vis = False\n",
    "\n",
    "        steps_per_e[episode] = t\n",
    "        r_per_e[episode] = r_t\n",
    "\n",
    "\n",
    "    return Q, s_count, sa_count, steps_per_e, r_per_e\n"
   ]
  },
  {
   "cell_type": "code",
   "execution_count": 10,
   "id": "fuzzy-magnitude",
   "metadata": {},
   "outputs": [],
   "source": [
    "def play(env, Q):\n",
    "    pg.init()\n",
    "    agent = AgentSmall(n_actions, n_dims, gamma, alpha_p, Q)\n",
    "    terminal = False\n",
    "    s = env.reset()\n",
    "    while True:\n",
    "        a = agent.choose_action_egreedy(s)\n",
    "        sp, r, terminal = env.step(a)\n",
    "        if terminal:\n",
    "            pg.quit()\n",
    "            return\n",
    "        cont = env.render()\n",
    "        if cont is False:\n",
    "            return\n"
   ]
  },
  {
   "cell_type": "code",
   "execution_count": 11,
   "id": "experimental-walker",
   "metadata": {},
   "outputs": [],
   "source": [
    "def load_weights(idx, chunk):\n",
    "    post = f\"{(idx + 1) * chunk}.npy\"\n",
    "    Q = np.load(f\"Q_{post}\")\n",
    "    s_count = np.load(f\"s_count_{post}\")\n",
    "    sa_count = np.load(f\"sa_count_{post}\")\n",
    "    return Q, s_count, sa_count\n",
    "    \n",
    "def save_weights(dict_, idx, chunk):\n",
    "    for name, val in dict_.items():\n",
    "        np.save(f\"{name}_{(idx + 1) * chunk}\", val)\n"
   ]
  },
  {
   "cell_type": "code",
   "execution_count": 12,
   "id": "pointed-there",
   "metadata": {},
   "outputs": [],
   "source": [
    "if __name__ == \"__main__\":\n",
    "    gamma = 0.99\n",
    "    alpha_p = 1\n",
    "    \n",
    "    env = SmallEnv()\n",
    "    offset = 20_000\n",
    "    num_episodes = 20_000\n",
    "    try:\n",
    "        Q = np.load(f\"Q_s_{offset}.npy\")\n",
    "        s_count = np.load(f\"s_count_s_{offset}.npy\")\n",
    "        sa_count = np.load(f\"sa_count_s_{offset}.npy\")\n",
    "        print(\"Imported Weights!\")\n",
    "    except FileNotFoundError:\n",
    "        Q, s_count, sa_count = None, None, None\n",
    "\n"
   ]
  },
  {
   "cell_type": "code",
   "execution_count": 13,
   "id": "surgical-james",
   "metadata": {},
   "outputs": [],
   "source": [
    "# agent = AgentSmall(n_actions, n_dims, gamma, alpha_p, Q, s_count, sa_count)    \n",
    "# Q, s_count, sa_count, steps_per_e, r_per_e = train(num_episodes=num_episodes, env=env, agent=agent, vis=False)\n",
    "\n",
    "# np.save(f\"Q_s_{num_episodes + offset}\", Q)\n",
    "# np.save(f\"s_count_s_{num_episodes + offset}\", s_count)\n",
    "# np.save(f\"sa_count_s_{num_episodes + offset}\", sa_count)\n",
    "\n",
    "# plt.plot(steps_per_e)\n"
   ]
  },
  {
   "cell_type": "code",
   "execution_count": 17,
   "id": "collect-pittsburgh",
   "metadata": {},
   "outputs": [],
   "source": [
    "env = SmallEnv(n_dims, n_states, actions)\n",
    "play(env, Q)"
   ]
  },
  {
   "cell_type": "code",
   "execution_count": null,
   "id": "earned-lafayette",
   "metadata": {},
   "outputs": [],
   "source": []
  }
 ],
 "metadata": {
  "kernelspec": {
   "display_name": "Python 3",
   "language": "python",
   "name": "python3"
  },
  "language_info": {
   "codemirror_mode": {
    "name": "ipython",
    "version": 3
   },
   "file_extension": ".py",
   "mimetype": "text/x-python",
   "name": "python",
   "nbconvert_exporter": "python",
   "pygments_lexer": "ipython3",
   "version": "3.8.10"
  }
 },
 "nbformat": 4,
 "nbformat_minor": 5
}
