{
 "cells": [
  {
   "cell_type": "code",
   "execution_count": 1,
   "id": "a8d5d6d5",
   "metadata": {},
   "outputs": [
    {
     "name": "stdout",
     "output_type": "stream",
     "text": [
      "pygame 2.0.1 (SDL 2.0.14, Python 3.8.10)\n",
      "Hello from the pygame community. https://www.pygame.org/contribute.html\n"
     ]
    }
   ],
   "source": [
    "%run pong_agent.ipynb\n",
    "%run pong_env.ipynb\n",
    "from itertools import count\n",
    "import matplotlib.pyplot as plt"
   ]
  },
  {
   "cell_type": "code",
   "execution_count": 2,
   "id": "ffdf5329",
   "metadata": {},
   "outputs": [],
   "source": [
    "def normalize(s):\n",
    "    s_norm = np.copy(s)\n",
    "    s_norm[I_Y_BALL] = np.interp(s_norm[I_Y_BALL], (0, 2), (0, 1))\n",
    "    s_norm[I_VX_BALL] = np.interp(s_norm[I_VX_BALL], (- V_BALL, V_BALL), (0, 1))\n",
    "    s_norm[I_VY_BALL] = np.interp(s_norm[I_VY_BALL], (- V_BALL, V_BALL), (0, 1))\n",
    "    return s_norm\n"
   ]
  },
  {
   "cell_type": "code",
   "execution_count": 3,
   "id": "f03ff383",
   "metadata": {},
   "outputs": [],
   "source": [
    "def train(env, agent, n_episodes, vis=False):\n",
    "    pg.init()\n",
    "    steps_per_e = np.zeros(n_episodes)\n",
    "    for episode in tqdm(range(n_episodes)):\n",
    "        s = env.reset()\n",
    "        agent.reset()\n",
    "        s_norm = normalize(s)\n",
    "        for t in count():\n",
    "            a, policy = agent.choose_action(s_norm)\n",
    "            sp, r, terminal = env.step(actions[a])\n",
    "            sp_norm = normalize(sp)\n",
    "            w, theta = agent.learn(s_norm, a, r, sp_norm, terminal, policy)\n",
    "            print(s_norm)\n",
    "            if terminal:\n",
    "                break\n",
    "            s = sp\n",
    "            s_norm = sp_norm\n",
    "        \n",
    "            if vis:\n",
    "                cont = env.render()\n",
    "                if cont is False or terminal:\n",
    "                    pg.quit()\n",
    "                    vis = False\n",
    "\n",
    "        steps_per_e[episode] = t\n",
    "\n",
    "    return w, theta, steps_per_e\n",
    "        "
   ]
  },
  {
   "cell_type": "code",
   "execution_count": 4,
   "id": "55399537",
   "metadata": {},
   "outputs": [],
   "source": [
    "def play(env, agent, n_episodes=1):\n",
    "    pg.init()\n",
    "    for episode in range(n_episodes):\n",
    "        s = env.reset()\n",
    "        s_norm = normalize(s)\n",
    "        for t in count():\n",
    "            a, _ = agent.choose_action(s_norm)\n",
    "            sp, r, terminal = env.step(actions[a])\n",
    "            sp_norm = normalize(sp)\n",
    "            if terminal:\n",
    "                break\n",
    "            s = s_norm\n",
    "            sp = sp_norm\n",
    "\n",
    "            cont = env.render()\n",
    "            if cont is False or terminal:\n",
    "                break\n",
    "    pg.quit()\n",
    "        "
   ]
  },
  {
   "cell_type": "code",
   "execution_count": 5,
   "id": "united-blond",
   "metadata": {},
   "outputs": [],
   "source": [
    "def load_weights(idx, chunk):\n",
    "    post = f\"{(idx + 1) * chunk}.npy\"\n",
    "    Q = np.load(f\"Q_{post}\")\n",
    "    s_count = np.load(f\"s_count_{post}\")\n",
    "    sa_count = np.load(f\"sa_count_{post}\")\n",
    "    return Q, s_count, sa_count\n",
    "    \n",
    "def save_weights(dict_, idx, chunk):\n",
    "    for name, val in dict_.items():\n",
    "        np.save(f\"{name}_{(idx + 1) * chunk}\", val)\n"
   ]
  },
  {
   "cell_type": "code",
   "execution_count": 6,
   "id": "suburban-string",
   "metadata": {},
   "outputs": [],
   "source": [
    "if __name__ == \"__main__\":\n",
    "    degree = 3\n",
    "    n_states = 5\n",
    "    n_features = (degree + 1) ** n_states\n",
    "    actions = [-2, 0, 2]\n",
    "    n_actions = len(actions)\n",
    "\n",
    "    alpha = 1e-4\n",
    "    lambda_w = 0.5\n",
    "    lambda_theta = 0.5\n",
    "    gamma = 0.99\n",
    "\n",
    "    offset = 0\n",
    "    n_episodes = 150\n",
    "    try:\n",
    "        w = np.load(f\"w_{offset}.npy\")\n",
    "        theta = np.load(f\"theta_{offset}.npy\")\n",
    "        print(\"Imported Weights!\")\n",
    "    except FileNotFoundError:\n",
    "        w, theta = np.zeros(n_features), np.zeros(n_actions * n_features)\n"
   ]
  },
  {
   "cell_type": "code",
   "execution_count": 7,
   "id": "advanced-addition",
   "metadata": {},
   "outputs": [
    {
     "name": "stderr",
     "output_type": "stream",
     "text": [
      "<ipython-input-1-0bbf6d92e3cf>:98: RuntimeWarning: divide by zero encountered in double_scalars\n",
      "  alpha[i] = 1 / np.linalg.norm(c)\n"
     ]
    }
   ],
   "source": [
    "agent = ActorCriticETAgent(n_features, degree, n_states, n_actions, alpha, gamma, lambda_theta, lambda_w)\n",
    "# agent.w, agent.theta = w, theta"
   ]
  },
  {
   "cell_type": "code",
   "execution_count": 8,
   "id": "a145ce12",
   "metadata": {},
   "outputs": [],
   "source": [
    "# env = PongSoloEnv(n_states, actions)\n",
    "# w, theta, steps_per_e = train(env, agent, n_episodes, vis=False)\n",
    "# np.save(f\"w_{n_episodes + offset}\", w)\n",
    "# np.save(f\"theta_{n_episodes + offset}\", theta)\n"
   ]
  },
  {
   "cell_type": "code",
   "execution_count": 9,
   "id": "intelligent-background",
   "metadata": {},
   "outputs": [],
   "source": [
    "# plt.plot(steps_per_e)"
   ]
  },
  {
   "cell_type": "code",
   "execution_count": 10,
   "id": "61c4d474",
   "metadata": {},
   "outputs": [
    {
     "name": "stdout",
     "output_type": "stream",
     "text": [
      "Hit!\n",
      "Hit!\n"
     ]
    }
   ],
   "source": [
    "env = PongSoloEnv(n_states, actions)\n",
    "play(env, agent, n_episodes=10)\n"
   ]
  },
  {
   "cell_type": "code",
   "execution_count": null,
   "id": "spread-hands",
   "metadata": {},
   "outputs": [],
   "source": []
  }
 ],
 "metadata": {
  "kernelspec": {
   "display_name": "Python 3",
   "language": "python",
   "name": "python3"
  },
  "language_info": {
   "codemirror_mode": {
    "name": "ipython",
    "version": 3
   },
   "file_extension": ".py",
   "mimetype": "text/x-python",
   "name": "python",
   "nbconvert_exporter": "python",
   "pygments_lexer": "ipython3",
   "version": "3.8.10"
  }
 },
 "nbformat": 4,
 "nbformat_minor": 5
}
