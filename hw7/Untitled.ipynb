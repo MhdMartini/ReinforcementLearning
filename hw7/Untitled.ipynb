{
 "cells": [
  {
   "cell_type": "code",
   "execution_count": 29,
   "id": "prerequisite-receipt",
   "metadata": {},
   "outputs": [],
   "source": [
    "import numpy as np\n",
    "from sympy import *\n",
    "from itertools import product\n"
   ]
  },
  {
   "cell_type": "markdown",
   "id": "paperback-ecuador",
   "metadata": {},
   "source": []
  },
  {
   "cell_type": "code",
   "execution_count": 132,
   "id": "thrown-beach",
   "metadata": {},
   "outputs": [],
   "source": [
    "def _poly_basis(d: int):\n",
    "    var('s1 s2 s3')\n",
    "    var(\"\".join([str(i) for i in range(10)]))\n",
    "    k = 3\n",
    "    num_features = (d + 1) ** k\n",
    "    print(f\"{num_features =: }\")\n",
    "    \n",
    "    X = Matrix(np.zeros(num_features))\n",
    "    for i, c in enumerate(product(range(d + 1), repeat=k)):\n",
    "        try:\n",
    "            X[i] = Matrix([s2**c[0] * s1**c[1] * s2**c[2]])\n",
    "        except Exception as e:\n",
    "            print(i)\n",
    "            \n",
    "    return X"
   ]
  },
  {
   "cell_type": "code",
   "execution_count": 133,
   "id": "textile-faith",
   "metadata": {},
   "outputs": [
    {
     "name": "stdout",
     "output_type": "stream",
     "text": [
      "num_features = 64\n"
     ]
    },
    {
     "data": {
      "text/latex": [
       "$\\displaystyle \\left[\\begin{array}{cccccccccccccccccccccccccccccccccccccccccccccccccccccccccccccccc}1 & s_{2} & s_{2}^{2} & s_{2}^{3} & s_{1} & s_{1} s_{2} & s_{1} s_{2}^{2} & s_{1} s_{2}^{3} & s_{1}^{2} & s_{1}^{2} s_{2} & s_{1}^{2} s_{2}^{2} & s_{1}^{2} s_{2}^{3} & s_{1}^{3} & s_{1}^{3} s_{2} & s_{1}^{3} s_{2}^{2} & s_{1}^{3} s_{2}^{3} & s_{2} & s_{2}^{2} & s_{2}^{3} & s_{2}^{4} & s_{1} s_{2} & s_{1} s_{2}^{2} & s_{1} s_{2}^{3} & s_{1} s_{2}^{4} & s_{1}^{2} s_{2} & s_{1}^{2} s_{2}^{2} & s_{1}^{2} s_{2}^{3} & s_{1}^{2} s_{2}^{4} & s_{1}^{3} s_{2} & s_{1}^{3} s_{2}^{2} & s_{1}^{3} s_{2}^{3} & s_{1}^{3} s_{2}^{4} & s_{2}^{2} & s_{2}^{3} & s_{2}^{4} & s_{2}^{5} & s_{1} s_{2}^{2} & s_{1} s_{2}^{3} & s_{1} s_{2}^{4} & s_{1} s_{2}^{5} & s_{1}^{2} s_{2}^{2} & s_{1}^{2} s_{2}^{3} & s_{1}^{2} s_{2}^{4} & s_{1}^{2} s_{2}^{5} & s_{1}^{3} s_{2}^{2} & s_{1}^{3} s_{2}^{3} & s_{1}^{3} s_{2}^{4} & s_{1}^{3} s_{2}^{5} & s_{2}^{3} & s_{2}^{4} & s_{2}^{5} & s_{2}^{6} & s_{1} s_{2}^{3} & s_{1} s_{2}^{4} & s_{1} s_{2}^{5} & s_{1} s_{2}^{6} & s_{1}^{2} s_{2}^{3} & s_{1}^{2} s_{2}^{4} & s_{1}^{2} s_{2}^{5} & s_{1}^{2} s_{2}^{6} & s_{1}^{3} s_{2}^{3} & s_{1}^{3} s_{2}^{4} & s_{1}^{3} s_{2}^{5} & s_{1}^{3} s_{2}^{6}\\end{array}\\right]$"
      ],
      "text/plain": [
       "Matrix([[1, s2, s2**2, s2**3, s1, s1*s2, s1*s2**2, s1*s2**3, s1**2, s1**2*s2, s1**2*s2**2, s1**2*s2**3, s1**3, s1**3*s2, s1**3*s2**2, s1**3*s2**3, s2, s2**2, s2**3, s2**4, s1*s2, s1*s2**2, s1*s2**3, s1*s2**4, s1**2*s2, s1**2*s2**2, s1**2*s2**3, s1**2*s2**4, s1**3*s2, s1**3*s2**2, s1**3*s2**3, s1**3*s2**4, s2**2, s2**3, s2**4, s2**5, s1*s2**2, s1*s2**3, s1*s2**4, s1*s2**5, s1**2*s2**2, s1**2*s2**3, s1**2*s2**4, s1**2*s2**5, s1**3*s2**2, s1**3*s2**3, s1**3*s2**4, s1**3*s2**5, s2**3, s2**4, s2**5, s2**6, s1*s2**3, s1*s2**4, s1*s2**5, s1*s2**6, s1**2*s2**3, s1**2*s2**4, s1**2*s2**5, s1**2*s2**6, s1**3*s2**3, s1**3*s2**4, s1**3*s2**5, s1**3*s2**6]])"
      ]
     },
     "execution_count": 133,
     "metadata": {},
     "output_type": "execute_result"
    }
   ],
   "source": [
    "p = _poly_basis(3)\n",
    "p.T"
   ]
  },
  {
   "cell_type": "code",
   "execution_count": 87,
   "id": "built-destination",
   "metadata": {},
   "outputs": [],
   "source": [
    "def _fourier_basis(d: int):\n",
    "    var('s1 s2 s3')\n",
    "    s_ = Matrix([s1, s2, s3])\n",
    "    var(\"\".join([str(i) for i in range(10)]))\n",
    "    k = 3\n",
    "    num_features = (d + 1) ** k\n",
    "    \n",
    "    X = Matrix(np.zeros(num_features))\n",
    "    for i, c in enumerate(product(range(d + 1), repeat=k)):\n",
    "        c_ = Matrix(c)\n",
    "        X[i] = s_.T.multiply(c_)\n",
    "    return X"
   ]
  },
  {
   "cell_type": "code",
   "execution_count": 69,
   "id": "canadian-press",
   "metadata": {},
   "outputs": [],
   "source": [
    "b = _fourier_basis(d=2)\n"
   ]
  },
  {
   "cell_type": "code",
   "execution_count": 70,
   "id": "immediate-algorithm",
   "metadata": {},
   "outputs": [
    {
     "data": {
      "text/latex": [
       "$\\displaystyle \\left[\\begin{array}{ccccccccccccccccccccccccccc}0 & s_{1} & 2 s_{1} & s_{2} & s_{1} + s_{2} & 2 s_{1} + s_{2} & 2 s_{2} & s_{1} + 2 s_{2} & 2 s_{1} + 2 s_{2} & s_{3} & s_{1} + s_{3} & 2 s_{1} + s_{3} & s_{2} + s_{3} & s_{1} + s_{2} + s_{3} & 2 s_{1} + s_{2} + s_{3} & 2 s_{2} + s_{3} & s_{1} + 2 s_{2} + s_{3} & 2 s_{1} + 2 s_{2} + s_{3} & 2 s_{3} & s_{1} + 2 s_{3} & 2 s_{1} + 2 s_{3} & s_{2} + 2 s_{3} & s_{1} + s_{2} + 2 s_{3} & 2 s_{1} + s_{2} + 2 s_{3} & 2 s_{2} + 2 s_{3} & s_{1} + 2 s_{2} + 2 s_{3} & 2 s_{1} + 2 s_{2} + 2 s_{3}\\end{array}\\right]$"
      ],
      "text/plain": [
       "Matrix([[0, s1, 2*s1, s2, s1 + s2, 2*s1 + s2, 2*s2, s1 + 2*s2, 2*s1 + 2*s2, s3, s1 + s3, 2*s1 + s3, s2 + s3, s1 + s2 + s3, 2*s1 + s2 + s3, 2*s2 + s3, s1 + 2*s2 + s3, 2*s1 + 2*s2 + s3, 2*s3, s1 + 2*s3, 2*s1 + 2*s3, s2 + 2*s3, s1 + s2 + 2*s3, 2*s1 + s2 + 2*s3, 2*s2 + 2*s3, s1 + 2*s2 + 2*s3, 2*s1 + 2*s2 + 2*s3]])"
      ]
     },
     "execution_count": 70,
     "metadata": {},
     "output_type": "execute_result"
    }
   ],
   "source": [
    "b.T"
   ]
  },
  {
   "cell_type": "code",
   "execution_count": 7,
   "id": "hired-omega",
   "metadata": {},
   "outputs": [
    {
     "data": {
      "text/plain": [
       "(s1, s2)"
      ]
     },
     "execution_count": 7,
     "metadata": {},
     "output_type": "execute_result"
    }
   ],
   "source": [
    "var('s1 s2')"
   ]
  },
  {
   "cell_type": "code",
   "execution_count": 14,
   "id": "soviet-apartment",
   "metadata": {},
   "outputs": [
    {
     "data": {
      "text/plain": [
       "NotImplemented"
      ]
     },
     "execution_count": 14,
     "metadata": {},
     "output_type": "execute_result"
    }
   ],
   "source": [
    "a = Matrix([s1, s2])\n",
    "# a.T\n",
    "a.T.multiply([1,2])"
   ]
  },
  {
   "cell_type": "code",
   "execution_count": 42,
   "id": "suburban-banana",
   "metadata": {},
   "outputs": [
    {
     "data": {
      "text/latex": [
       "$\\displaystyle \\left[\\begin{matrix}s_{2}\\\\s_{2}\\end{matrix}\\right]$"
      ],
      "text/plain": [
       "Matrix([\n",
       "[s2],\n",
       "[s2]])"
      ]
     },
     "execution_count": 42,
     "metadata": {},
     "output_type": "execute_result"
    }
   ],
   "source": [
    "a[0] = s2\n",
    "a"
   ]
  },
  {
   "cell_type": "code",
   "execution_count": 5,
   "id": "eligible-roots",
   "metadata": {},
   "outputs": [
    {
     "data": {
      "text/latex": [
       "$\\displaystyle \\left[\\begin{matrix}1\\\\d\\end{matrix}\\right]$"
      ],
      "text/plain": [
       "Matrix([\n",
       "[1],\n",
       "[d]])"
      ]
     },
     "execution_count": 5,
     "metadata": {},
     "output_type": "execute_result"
    }
   ],
   "source": [
    "B = Matrix(np.array([1, d]))\n",
    "B"
   ]
  },
  {
   "cell_type": "code",
   "execution_count": 74,
   "id": "northern-offset",
   "metadata": {},
   "outputs": [
    {
     "data": {
      "text/latex": [
       "$\\displaystyle \\left[\\begin{matrix}1\\\\a + c d\\end{matrix}\\right]$"
      ],
      "text/plain": [
       "Matrix([\n",
       "[      1],\n",
       "[a + c*d]])"
      ]
     },
     "execution_count": 74,
     "metadata": {},
     "output_type": "execute_result"
    }
   ],
   "source": [
    "M = A.multiply(B)\n",
    "M"
   ]
  },
  {
   "cell_type": "code",
   "execution_count": 80,
   "id": "eleven-frequency",
   "metadata": {},
   "outputs": [
    {
     "data": {
      "text/latex": [
       "$\\displaystyle s_{2}$"
      ],
      "text/plain": [
       "s2"
      ]
     },
     "execution_count": 80,
     "metadata": {},
     "output_type": "execute_result"
    }
   ],
   "source": [
    "a0 = a[0]\n",
    "a0"
   ]
  },
  {
   "cell_type": "code",
   "execution_count": 84,
   "id": "efficient-edmonton",
   "metadata": {},
   "outputs": [
    {
     "data": {
      "text/latex": [
       "$\\displaystyle \\left[\\begin{matrix}2 & 1\\\\1 & 2\\end{matrix}\\right]$"
      ],
      "text/plain": [
       "Matrix([\n",
       "[2, 1],\n",
       "[1, 2]])"
      ]
     },
     "execution_count": 84,
     "metadata": {},
     "output_type": "execute_result"
    }
   ],
   "source": [
    "a = Matrix(np.random.randint(3, size=(2,2)))\n",
    "a"
   ]
  },
  {
   "cell_type": "code",
   "execution_count": 86,
   "id": "minus-piece",
   "metadata": {},
   "outputs": [
    {
     "data": {
      "text/latex": [
       "$\\displaystyle \\left[\\begin{matrix}5 & 4\\\\4 & 5\\end{matrix}\\right]$"
      ],
      "text/plain": [
       "Matrix([\n",
       "[5, 4],\n",
       "[4, 5]])"
      ]
     },
     "execution_count": 86,
     "metadata": {},
     "output_type": "execute_result"
    }
   ],
   "source": [
    "a**2"
   ]
  },
  {
   "cell_type": "code",
   "execution_count": 98,
   "id": "mature-district",
   "metadata": {},
   "outputs": [
    {
     "data": {
      "text/latex": [
       "$\\displaystyle \\left[\\begin{matrix}1\\\\2\\\\3\\\\4\\end{matrix}\\right]$"
      ],
      "text/plain": [
       "Matrix([\n",
       "[1],\n",
       "[2],\n",
       "[3],\n",
       "[4]])"
      ]
     },
     "execution_count": 98,
     "metadata": {},
     "output_type": "execute_result"
    }
   ],
   "source": [
    "Matrix((1,2,3,4))"
   ]
  },
  {
   "cell_type": "code",
   "execution_count": null,
   "id": "worse-passing",
   "metadata": {},
   "outputs": [],
   "source": []
  }
 ],
 "metadata": {
  "kernelspec": {
   "display_name": "Python 3",
   "language": "python",
   "name": "python3"
  },
  "language_info": {
   "codemirror_mode": {
    "name": "ipython",
    "version": 3
   },
   "file_extension": ".py",
   "mimetype": "text/x-python",
   "name": "python",
   "nbconvert_exporter": "python",
   "pygments_lexer": "ipython3",
   "version": "3.8.10"
  }
 },
 "nbformat": 4,
 "nbformat_minor": 5
}
